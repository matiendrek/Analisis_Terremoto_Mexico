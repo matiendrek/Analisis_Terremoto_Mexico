{
  "nbformat": 4,
  "nbformat_minor": 0,
  "metadata": {
    "colab": {
      "provenance": [],
      "toc_visible": true,
      "mount_file_id": "1ax7T-ZQNNkLBg71UP7cGX8AvmFymoSIE",
      "authorship_tag": "ABX9TyPKpGMJGGjNCm8jvfJHXUIp",
      "include_colab_link": true
    },
    "kernelspec": {
      "name": "python3",
      "display_name": "Python 3"
    },
    "language_info": {
      "name": "python"
    }
  },
  "cells": [
    {
      "cell_type": "markdown",
      "metadata": {
        "id": "view-in-github",
        "colab_type": "text"
      },
      "source": [
        "<a href=\"https://colab.research.google.com/github/matiendrek/Analisis_Terremoto_Mexico/blob/main/NLP_MATI.ipynb\" target=\"_parent\"><img src=\"https://colab.research.google.com/assets/colab-badge.svg\" alt=\"Open In Colab\"/></a>"
      ]
    },
    {
      "cell_type": "markdown",
      "source": [
        "# Se inicializa el proceso  NLP del dataset"
      ],
      "metadata": {
        "id": "WV_zmatUuPji"
      }
    },
    {
      "cell_type": "code",
      "source": [
        "import pandas as pd\n",
        "import numpy as np\n",
        "from wordcloud import WordCloud, STOPWORDS, ImageColorGenerator\n",
        "import nltk\n",
        "from nltk.corpus import stopwords\n",
        "from tqdm import tqdm\n",
        "from nltk.stem import WordNetLemmatizer\n",
        "import spacy\n",
        "import os\n",
        "import matplotlib.pyplot as plt\n",
        "import seaborn as sns\n",
        "import re\n",
        "from spellchecker import SpellChecker\n",
        "from unidecode import unidecode\n",
        "\n"
      ],
      "metadata": {
        "id": "Cj4VYKlkudXI"
      },
      "execution_count": 41,
      "outputs": []
    },
    {
      "cell_type": "code",
      "source": [
        "from google.colab import drive\n",
        "drive.mount('/content/drive')"
      ],
      "metadata": {
        "colab": {
          "base_uri": "https://localhost:8080/"
        },
        "id": "w9fzC9_J9spX",
        "outputId": "e0cfb28c-95c2-4c28-c983-6f71d4193421"
      },
      "execution_count": 42,
      "outputs": [
        {
          "output_type": "stream",
          "name": "stdout",
          "text": [
            "Drive already mounted at /content/drive; to attempt to forcibly remount, call drive.mount(\"/content/drive\", force_remount=True).\n"
          ]
        }
      ]
    },
    {
      "cell_type": "code",
      "source": [
        "!pip install unidecode"
      ],
      "metadata": {
        "colab": {
          "base_uri": "https://localhost:8080/"
        },
        "id": "-OQ6QvEo9lg4",
        "outputId": "4b307af5-6df8-42f8-aa3c-07bf445a3df2"
      },
      "execution_count": 43,
      "outputs": [
        {
          "output_type": "stream",
          "name": "stdout",
          "text": [
            "Requirement already satisfied: unidecode in /usr/local/lib/python3.10/dist-packages (1.3.8)\n"
          ]
        }
      ]
    },
    {
      "cell_type": "code",
      "source": [
        "pip install pyspellchecker"
      ],
      "metadata": {
        "colab": {
          "base_uri": "https://localhost:8080/"
        },
        "id": "lOC2t_La7xja",
        "outputId": "e1353c9e-b587-4c9f-be25-cb2f9dd5dabc"
      },
      "execution_count": 44,
      "outputs": [
        {
          "output_type": "stream",
          "name": "stdout",
          "text": [
            "Requirement already satisfied: pyspellchecker in /usr/local/lib/python3.10/dist-packages (0.8.1)\n"
          ]
        }
      ]
    },
    {
      "cell_type": "code",
      "source": [
        "!pip install autocorrect"
      ],
      "metadata": {
        "colab": {
          "base_uri": "https://localhost:8080/"
        },
        "id": "nm_yE_hm62BG",
        "outputId": "bc9c2a38-899f-4069-a9b2-e9c52bcc0406"
      },
      "execution_count": 45,
      "outputs": [
        {
          "output_type": "stream",
          "name": "stdout",
          "text": [
            "Requirement already satisfied: autocorrect in /usr/local/lib/python3.10/dist-packages (2.6.1)\n"
          ]
        }
      ]
    },
    {
      "cell_type": "code",
      "source": [
        "!pip install demoji"
      ],
      "metadata": {
        "colab": {
          "base_uri": "https://localhost:8080/"
        },
        "id": "XlEahG45Ox3E",
        "outputId": "f4aa0d8f-957f-40f2-e488-61e4a85f5bac"
      },
      "execution_count": 46,
      "outputs": [
        {
          "output_type": "stream",
          "name": "stdout",
          "text": [
            "Requirement already satisfied: demoji in /usr/local/lib/python3.10/dist-packages (1.1.0)\n"
          ]
        }
      ]
    },
    {
      "cell_type": "code",
      "source": [
        "!pip install spacy-download\n"
      ],
      "metadata": {
        "colab": {
          "base_uri": "https://localhost:8080/"
        },
        "id": "EXqUipdZGlJU",
        "outputId": "25c38893-e0ab-4f5d-e181-cb7099a40503"
      },
      "execution_count": 47,
      "outputs": [
        {
          "output_type": "stream",
          "name": "stdout",
          "text": [
            "Requirement already satisfied: spacy-download in /usr/local/lib/python3.10/dist-packages (1.1.0)\n",
            "Requirement already satisfied: spacy<4.0.0,>=3.0.0 in /usr/local/lib/python3.10/dist-packages (from spacy-download) (3.7.4)\n",
            "Requirement already satisfied: spacy-legacy<3.1.0,>=3.0.11 in /usr/local/lib/python3.10/dist-packages (from spacy<4.0.0,>=3.0.0->spacy-download) (3.0.12)\n",
            "Requirement already satisfied: spacy-loggers<2.0.0,>=1.0.0 in /usr/local/lib/python3.10/dist-packages (from spacy<4.0.0,>=3.0.0->spacy-download) (1.0.5)\n",
            "Requirement already satisfied: murmurhash<1.1.0,>=0.28.0 in /usr/local/lib/python3.10/dist-packages (from spacy<4.0.0,>=3.0.0->spacy-download) (1.0.10)\n",
            "Requirement already satisfied: cymem<2.1.0,>=2.0.2 in /usr/local/lib/python3.10/dist-packages (from spacy<4.0.0,>=3.0.0->spacy-download) (2.0.8)\n",
            "Requirement already satisfied: preshed<3.1.0,>=3.0.2 in /usr/local/lib/python3.10/dist-packages (from spacy<4.0.0,>=3.0.0->spacy-download) (3.0.9)\n",
            "Requirement already satisfied: thinc<8.3.0,>=8.2.2 in /usr/local/lib/python3.10/dist-packages (from spacy<4.0.0,>=3.0.0->spacy-download) (8.2.3)\n",
            "Requirement already satisfied: wasabi<1.2.0,>=0.9.1 in /usr/local/lib/python3.10/dist-packages (from spacy<4.0.0,>=3.0.0->spacy-download) (1.1.2)\n",
            "Requirement already satisfied: srsly<3.0.0,>=2.4.3 in /usr/local/lib/python3.10/dist-packages (from spacy<4.0.0,>=3.0.0->spacy-download) (2.4.8)\n",
            "Requirement already satisfied: catalogue<2.1.0,>=2.0.6 in /usr/local/lib/python3.10/dist-packages (from spacy<4.0.0,>=3.0.0->spacy-download) (2.0.10)\n",
            "Requirement already satisfied: weasel<0.4.0,>=0.1.0 in /usr/local/lib/python3.10/dist-packages (from spacy<4.0.0,>=3.0.0->spacy-download) (0.3.4)\n",
            "Requirement already satisfied: typer<0.10.0,>=0.3.0 in /usr/local/lib/python3.10/dist-packages (from spacy<4.0.0,>=3.0.0->spacy-download) (0.9.4)\n",
            "Requirement already satisfied: smart-open<7.0.0,>=5.2.1 in /usr/local/lib/python3.10/dist-packages (from spacy<4.0.0,>=3.0.0->spacy-download) (6.4.0)\n",
            "Requirement already satisfied: tqdm<5.0.0,>=4.38.0 in /usr/local/lib/python3.10/dist-packages (from spacy<4.0.0,>=3.0.0->spacy-download) (4.66.2)\n",
            "Requirement already satisfied: requests<3.0.0,>=2.13.0 in /usr/local/lib/python3.10/dist-packages (from spacy<4.0.0,>=3.0.0->spacy-download) (2.31.0)\n",
            "Requirement already satisfied: pydantic!=1.8,!=1.8.1,<3.0.0,>=1.7.4 in /usr/local/lib/python3.10/dist-packages (from spacy<4.0.0,>=3.0.0->spacy-download) (2.6.4)\n",
            "Requirement already satisfied: jinja2 in /usr/local/lib/python3.10/dist-packages (from spacy<4.0.0,>=3.0.0->spacy-download) (3.1.3)\n",
            "Requirement already satisfied: setuptools in /usr/local/lib/python3.10/dist-packages (from spacy<4.0.0,>=3.0.0->spacy-download) (67.7.2)\n",
            "Requirement already satisfied: packaging>=20.0 in /usr/local/lib/python3.10/dist-packages (from spacy<4.0.0,>=3.0.0->spacy-download) (24.0)\n",
            "Requirement already satisfied: langcodes<4.0.0,>=3.2.0 in /usr/local/lib/python3.10/dist-packages (from spacy<4.0.0,>=3.0.0->spacy-download) (3.3.0)\n",
            "Requirement already satisfied: numpy>=1.19.0 in /usr/local/lib/python3.10/dist-packages (from spacy<4.0.0,>=3.0.0->spacy-download) (1.25.2)\n",
            "Requirement already satisfied: annotated-types>=0.4.0 in /usr/local/lib/python3.10/dist-packages (from pydantic!=1.8,!=1.8.1,<3.0.0,>=1.7.4->spacy<4.0.0,>=3.0.0->spacy-download) (0.6.0)\n",
            "Requirement already satisfied: pydantic-core==2.16.3 in /usr/local/lib/python3.10/dist-packages (from pydantic!=1.8,!=1.8.1,<3.0.0,>=1.7.4->spacy<4.0.0,>=3.0.0->spacy-download) (2.16.3)\n",
            "Requirement already satisfied: typing-extensions>=4.6.1 in /usr/local/lib/python3.10/dist-packages (from pydantic!=1.8,!=1.8.1,<3.0.0,>=1.7.4->spacy<4.0.0,>=3.0.0->spacy-download) (4.10.0)\n",
            "Requirement already satisfied: charset-normalizer<4,>=2 in /usr/local/lib/python3.10/dist-packages (from requests<3.0.0,>=2.13.0->spacy<4.0.0,>=3.0.0->spacy-download) (3.3.2)\n",
            "Requirement already satisfied: idna<4,>=2.5 in /usr/local/lib/python3.10/dist-packages (from requests<3.0.0,>=2.13.0->spacy<4.0.0,>=3.0.0->spacy-download) (3.6)\n",
            "Requirement already satisfied: urllib3<3,>=1.21.1 in /usr/local/lib/python3.10/dist-packages (from requests<3.0.0,>=2.13.0->spacy<4.0.0,>=3.0.0->spacy-download) (2.0.7)\n",
            "Requirement already satisfied: certifi>=2017.4.17 in /usr/local/lib/python3.10/dist-packages (from requests<3.0.0,>=2.13.0->spacy<4.0.0,>=3.0.0->spacy-download) (2024.2.2)\n",
            "Requirement already satisfied: blis<0.8.0,>=0.7.8 in /usr/local/lib/python3.10/dist-packages (from thinc<8.3.0,>=8.2.2->spacy<4.0.0,>=3.0.0->spacy-download) (0.7.11)\n",
            "Requirement already satisfied: confection<1.0.0,>=0.0.1 in /usr/local/lib/python3.10/dist-packages (from thinc<8.3.0,>=8.2.2->spacy<4.0.0,>=3.0.0->spacy-download) (0.1.4)\n",
            "Requirement already satisfied: click<9.0.0,>=7.1.1 in /usr/local/lib/python3.10/dist-packages (from typer<0.10.0,>=0.3.0->spacy<4.0.0,>=3.0.0->spacy-download) (8.1.7)\n",
            "Requirement already satisfied: cloudpathlib<0.17.0,>=0.7.0 in /usr/local/lib/python3.10/dist-packages (from weasel<0.4.0,>=0.1.0->spacy<4.0.0,>=3.0.0->spacy-download) (0.16.0)\n",
            "Requirement already satisfied: MarkupSafe>=2.0 in /usr/local/lib/python3.10/dist-packages (from jinja2->spacy<4.0.0,>=3.0.0->spacy-download) (2.1.5)\n"
          ]
        }
      ]
    },
    {
      "cell_type": "code",
      "source": [
        "!python -m spacy download es_core_news_sm"
      ],
      "metadata": {
        "colab": {
          "base_uri": "https://localhost:8080/"
        },
        "id": "9SRjQo56Gmxu",
        "outputId": "67674900-efaa-48e1-95e0-87d74e0b51ca"
      },
      "execution_count": 48,
      "outputs": [
        {
          "output_type": "stream",
          "name": "stdout",
          "text": [
            "Collecting es-core-news-sm==3.7.0\n",
            "  Downloading https://github.com/explosion/spacy-models/releases/download/es_core_news_sm-3.7.0/es_core_news_sm-3.7.0-py3-none-any.whl (12.9 MB)\n",
            "\u001b[2K     \u001b[90m━━━━━━━━━━━━━━━━━━━━━━━━━━━━━━━━━━━━━━━━\u001b[0m \u001b[32m12.9/12.9 MB\u001b[0m \u001b[31m61.1 MB/s\u001b[0m eta \u001b[36m0:00:00\u001b[0m\n",
            "\u001b[?25hRequirement already satisfied: spacy<3.8.0,>=3.7.0 in /usr/local/lib/python3.10/dist-packages (from es-core-news-sm==3.7.0) (3.7.4)\n",
            "Requirement already satisfied: spacy-legacy<3.1.0,>=3.0.11 in /usr/local/lib/python3.10/dist-packages (from spacy<3.8.0,>=3.7.0->es-core-news-sm==3.7.0) (3.0.12)\n",
            "Requirement already satisfied: spacy-loggers<2.0.0,>=1.0.0 in /usr/local/lib/python3.10/dist-packages (from spacy<3.8.0,>=3.7.0->es-core-news-sm==3.7.0) (1.0.5)\n",
            "Requirement already satisfied: murmurhash<1.1.0,>=0.28.0 in /usr/local/lib/python3.10/dist-packages (from spacy<3.8.0,>=3.7.0->es-core-news-sm==3.7.0) (1.0.10)\n",
            "Requirement already satisfied: cymem<2.1.0,>=2.0.2 in /usr/local/lib/python3.10/dist-packages (from spacy<3.8.0,>=3.7.0->es-core-news-sm==3.7.0) (2.0.8)\n",
            "Requirement already satisfied: preshed<3.1.0,>=3.0.2 in /usr/local/lib/python3.10/dist-packages (from spacy<3.8.0,>=3.7.0->es-core-news-sm==3.7.0) (3.0.9)\n",
            "Requirement already satisfied: thinc<8.3.0,>=8.2.2 in /usr/local/lib/python3.10/dist-packages (from spacy<3.8.0,>=3.7.0->es-core-news-sm==3.7.0) (8.2.3)\n",
            "Requirement already satisfied: wasabi<1.2.0,>=0.9.1 in /usr/local/lib/python3.10/dist-packages (from spacy<3.8.0,>=3.7.0->es-core-news-sm==3.7.0) (1.1.2)\n",
            "Requirement already satisfied: srsly<3.0.0,>=2.4.3 in /usr/local/lib/python3.10/dist-packages (from spacy<3.8.0,>=3.7.0->es-core-news-sm==3.7.0) (2.4.8)\n",
            "Requirement already satisfied: catalogue<2.1.0,>=2.0.6 in /usr/local/lib/python3.10/dist-packages (from spacy<3.8.0,>=3.7.0->es-core-news-sm==3.7.0) (2.0.10)\n",
            "Requirement already satisfied: weasel<0.4.0,>=0.1.0 in /usr/local/lib/python3.10/dist-packages (from spacy<3.8.0,>=3.7.0->es-core-news-sm==3.7.0) (0.3.4)\n",
            "Requirement already satisfied: typer<0.10.0,>=0.3.0 in /usr/local/lib/python3.10/dist-packages (from spacy<3.8.0,>=3.7.0->es-core-news-sm==3.7.0) (0.9.4)\n",
            "Requirement already satisfied: smart-open<7.0.0,>=5.2.1 in /usr/local/lib/python3.10/dist-packages (from spacy<3.8.0,>=3.7.0->es-core-news-sm==3.7.0) (6.4.0)\n",
            "Requirement already satisfied: tqdm<5.0.0,>=4.38.0 in /usr/local/lib/python3.10/dist-packages (from spacy<3.8.0,>=3.7.0->es-core-news-sm==3.7.0) (4.66.2)\n",
            "Requirement already satisfied: requests<3.0.0,>=2.13.0 in /usr/local/lib/python3.10/dist-packages (from spacy<3.8.0,>=3.7.0->es-core-news-sm==3.7.0) (2.31.0)\n",
            "Requirement already satisfied: pydantic!=1.8,!=1.8.1,<3.0.0,>=1.7.4 in /usr/local/lib/python3.10/dist-packages (from spacy<3.8.0,>=3.7.0->es-core-news-sm==3.7.0) (2.6.4)\n",
            "Requirement already satisfied: jinja2 in /usr/local/lib/python3.10/dist-packages (from spacy<3.8.0,>=3.7.0->es-core-news-sm==3.7.0) (3.1.3)\n",
            "Requirement already satisfied: setuptools in /usr/local/lib/python3.10/dist-packages (from spacy<3.8.0,>=3.7.0->es-core-news-sm==3.7.0) (67.7.2)\n",
            "Requirement already satisfied: packaging>=20.0 in /usr/local/lib/python3.10/dist-packages (from spacy<3.8.0,>=3.7.0->es-core-news-sm==3.7.0) (24.0)\n",
            "Requirement already satisfied: langcodes<4.0.0,>=3.2.0 in /usr/local/lib/python3.10/dist-packages (from spacy<3.8.0,>=3.7.0->es-core-news-sm==3.7.0) (3.3.0)\n",
            "Requirement already satisfied: numpy>=1.19.0 in /usr/local/lib/python3.10/dist-packages (from spacy<3.8.0,>=3.7.0->es-core-news-sm==3.7.0) (1.25.2)\n",
            "Requirement already satisfied: annotated-types>=0.4.0 in /usr/local/lib/python3.10/dist-packages (from pydantic!=1.8,!=1.8.1,<3.0.0,>=1.7.4->spacy<3.8.0,>=3.7.0->es-core-news-sm==3.7.0) (0.6.0)\n",
            "Requirement already satisfied: pydantic-core==2.16.3 in /usr/local/lib/python3.10/dist-packages (from pydantic!=1.8,!=1.8.1,<3.0.0,>=1.7.4->spacy<3.8.0,>=3.7.0->es-core-news-sm==3.7.0) (2.16.3)\n",
            "Requirement already satisfied: typing-extensions>=4.6.1 in /usr/local/lib/python3.10/dist-packages (from pydantic!=1.8,!=1.8.1,<3.0.0,>=1.7.4->spacy<3.8.0,>=3.7.0->es-core-news-sm==3.7.0) (4.10.0)\n",
            "Requirement already satisfied: charset-normalizer<4,>=2 in /usr/local/lib/python3.10/dist-packages (from requests<3.0.0,>=2.13.0->spacy<3.8.0,>=3.7.0->es-core-news-sm==3.7.0) (3.3.2)\n",
            "Requirement already satisfied: idna<4,>=2.5 in /usr/local/lib/python3.10/dist-packages (from requests<3.0.0,>=2.13.0->spacy<3.8.0,>=3.7.0->es-core-news-sm==3.7.0) (3.6)\n",
            "Requirement already satisfied: urllib3<3,>=1.21.1 in /usr/local/lib/python3.10/dist-packages (from requests<3.0.0,>=2.13.0->spacy<3.8.0,>=3.7.0->es-core-news-sm==3.7.0) (2.0.7)\n",
            "Requirement already satisfied: certifi>=2017.4.17 in /usr/local/lib/python3.10/dist-packages (from requests<3.0.0,>=2.13.0->spacy<3.8.0,>=3.7.0->es-core-news-sm==3.7.0) (2024.2.2)\n",
            "Requirement already satisfied: blis<0.8.0,>=0.7.8 in /usr/local/lib/python3.10/dist-packages (from thinc<8.3.0,>=8.2.2->spacy<3.8.0,>=3.7.0->es-core-news-sm==3.7.0) (0.7.11)\n",
            "Requirement already satisfied: confection<1.0.0,>=0.0.1 in /usr/local/lib/python3.10/dist-packages (from thinc<8.3.0,>=8.2.2->spacy<3.8.0,>=3.7.0->es-core-news-sm==3.7.0) (0.1.4)\n",
            "Requirement already satisfied: click<9.0.0,>=7.1.1 in /usr/local/lib/python3.10/dist-packages (from typer<0.10.0,>=0.3.0->spacy<3.8.0,>=3.7.0->es-core-news-sm==3.7.0) (8.1.7)\n",
            "Requirement already satisfied: cloudpathlib<0.17.0,>=0.7.0 in /usr/local/lib/python3.10/dist-packages (from weasel<0.4.0,>=0.1.0->spacy<3.8.0,>=3.7.0->es-core-news-sm==3.7.0) (0.16.0)\n",
            "Requirement already satisfied: MarkupSafe>=2.0 in /usr/local/lib/python3.10/dist-packages (from jinja2->spacy<3.8.0,>=3.7.0->es-core-news-sm==3.7.0) (2.1.5)\n",
            "\u001b[38;5;2m✔ Download and installation successful\u001b[0m\n",
            "You can now load the package via spacy.load('es_core_news_sm')\n",
            "\u001b[38;5;3m⚠ Restart to reload dependencies\u001b[0m\n",
            "If you are in a Jupyter or Colab notebook, you may need to restart Python in\n",
            "order to load all the package's dependencies. You can do this by selecting the\n",
            "'Restart kernel' or 'Restart runtime' option.\n"
          ]
        }
      ]
    },
    {
      "cell_type": "code",
      "source": [
        "# Este código en Python utiliza la biblioteca pandas para leer un\n",
        "#  archivo CSV llamado \"NLP_Analisis_de_emociones.csv\" ubicado\n",
        "#  en la ruta \"/content/drive/MyDrive/Colab Notebooks/\"\n",
        "#  y carga su contenido en un DataFrame de pandas llamado \"df\".\n",
        "\n",
        "df = pd.read_csv(\"/content/drive/MyDrive/Colab Notebooks/NLP_Analisis_de_emociones.csv\")"
      ],
      "metadata": {
        "id": "hHB2f8PHudUw"
      },
      "execution_count": 49,
      "outputs": []
    },
    {
      "cell_type": "code",
      "source": [
        "# Visualizo el dataframe para ver la cantidad de columnas,\n",
        "#  filas, y el contenido de las mismas.\n",
        "\n",
        "df"
      ],
      "metadata": {
        "colab": {
          "base_uri": "https://localhost:8080/",
          "height": 873
        },
        "id": "FEzGdtyXudRo",
        "outputId": "0628d7d9-43d6-49ba-83d3-51a8884a3d2f"
      },
      "execution_count": 50,
      "outputs": [
        {
          "output_type": "execute_result",
          "data": {
            "text/plain": [
              "                                                                                                                                                                                                                                                                                                                                                                                                                                         coms  \\\n",
              "0                                                                                                  > PD: que insoportables las focas camporistas aplaudidoras, de lejos lo peor de hoy, no lo dejaban hablar a Milei y alargaron el discurso innecesariamente (además de la loca que no para de gritar).\\n\\nBoludo, terrible. Me senté a ver el final y esto de los 10 puntos duró una eternidad. Era más aplauso que discurso en un momento.   \n",
              "1                                                                                                                                                                                                                                                                                                                    Lo de las jubilaciones de privilegio es para adelante, o sea de Milei hoy por hoy lo alcanzaria a Milei y su vice nomas.   \n",
              "2                                                      Como anti Milei que soy, admito:\\n\\n- Es loable cualquier medida que reduzca o elimine los curros de la politica\\n\\n- Me gusta la democratización de los sindicatos\\n\\nPodría haber ido mas allá, por todo, y tocar las dietas y viaticos de los diputados y senadores. No digo \"que ganen lo mismo que un docente\" (Del Caño, etc.), pero si darle algun marco regulatorio a la baja.   \n",
              "3                                                                                                                                                                                                                                                                                                                                                                                                           Siempre dos metros adelante Milei   \n",
              "4                                                                                                                                                                                                           adhiero malisimo de una hora y media que duro podria haberlo terminado de leer en media hora todo bien que seas del partido y te guste milei pero tampoco para andar como zombie descerebrado a aplaudirle por cada cosa que dice   \n",
              "...                                                                                                                                                                                                                                                                                                                                                                                                                                       ...   \n",
              "1496  Es que fue así. No hay un ganador como tal, pero al ir al debate cada uno tiene una finalidad. Massa consiguio todos los videos para tik tok que quizo y asi reafirmar los votos antimilei, y los del kirchnerismo por haberlos representado bien. Y era la oportunidad de Milei de atraer votos nuevos pero medio debate solo le fue funcional a Massa y en la otra mitad no hizo mucho.\\n\\nEl único que cumplio con su meta fue Massa   \n",
              "1497                                                                                                                                                                                   Pobre Milei. Admito que me dio algo de penita. Lo hizo demasiado bien, no es para nada su zona de confort. Por algo a Massa lo votan a pesar de ser la causa del problema. Es un politico de alta estirpe. Milei no lo es, y le costó hacerse entender   \n",
              "1498                                                                                                                                                                              Con este gobierno Clarin se convirtió en la izquierda diario y LN+ debe ser el diario que mas fakes le hizo a Milei.\\n\\nAdemás salvo los +50 quien mierda lee el diario hoy en día? Dejaron de ser medios de información para ser medios de opinión sesgada   \n",
              "1499                                                                                                                                                                                                                                                                                                                                                         Lo tranquilo que me pone Milei cuando empieza a hablar. Solito se va enterrando.   \n",
              "1500                                                                                                                                                      claramente gano massa porque lo unico que hizo fue destruir cada una de las propuestas de milei y perder el tiempo. Para massa es un juego, para milei es resolver el desastre que los kirchos hicieron durante 20 años.\\n\\nY las propuestas de massa?. Googlea compañere, googlea!   \n",
              "\n",
              "     sent  \n",
              "0     NEG  \n",
              "1     NEU  \n",
              "2     NEU  \n",
              "3     POS  \n",
              "4     NEG  \n",
              "...   ...  \n",
              "1496  NEU  \n",
              "1497  POS  \n",
              "1498  NEG  \n",
              "1499  NEG  \n",
              "1500  POS  \n",
              "\n",
              "[1501 rows x 2 columns]"
            ],
            "text/html": [
              "\n",
              "  <div id=\"df-05921270-2469-4ade-b19e-404725f454b0\" class=\"colab-df-container\">\n",
              "    <div>\n",
              "<style scoped>\n",
              "    .dataframe tbody tr th:only-of-type {\n",
              "        vertical-align: middle;\n",
              "    }\n",
              "\n",
              "    .dataframe tbody tr th {\n",
              "        vertical-align: top;\n",
              "    }\n",
              "\n",
              "    .dataframe thead th {\n",
              "        text-align: right;\n",
              "    }\n",
              "</style>\n",
              "<table border=\"1\" class=\"dataframe\">\n",
              "  <thead>\n",
              "    <tr style=\"text-align: right;\">\n",
              "      <th></th>\n",
              "      <th>coms</th>\n",
              "      <th>sent</th>\n",
              "    </tr>\n",
              "  </thead>\n",
              "  <tbody>\n",
              "    <tr>\n",
              "      <th>0</th>\n",
              "      <td>&gt; PD: que insoportables las focas camporistas aplaudidoras, de lejos lo peor de hoy, no lo dejaban hablar a Milei y alargaron el discurso innecesariamente (además de la loca que no para de gritar).\\n\\nBoludo, terrible. Me senté a ver el final y esto de los 10 puntos duró una eternidad. Era más aplauso que discurso en un momento.</td>\n",
              "      <td>NEG</td>\n",
              "    </tr>\n",
              "    <tr>\n",
              "      <th>1</th>\n",
              "      <td>Lo de las jubilaciones de privilegio es para adelante, o sea de Milei hoy por hoy lo alcanzaria a Milei y su vice nomas.</td>\n",
              "      <td>NEU</td>\n",
              "    </tr>\n",
              "    <tr>\n",
              "      <th>2</th>\n",
              "      <td>Como anti Milei que soy, admito:\\n\\n- Es loable cualquier medida que reduzca o elimine los curros de la politica\\n\\n- Me gusta la democratización de los sindicatos\\n\\nPodría haber ido mas allá, por todo, y tocar las dietas y viaticos de los diputados y senadores. No digo \"que ganen lo mismo que un docente\" (Del Caño, etc.), pero si darle algun marco regulatorio a la baja.</td>\n",
              "      <td>NEU</td>\n",
              "    </tr>\n",
              "    <tr>\n",
              "      <th>3</th>\n",
              "      <td>Siempre dos metros adelante Milei</td>\n",
              "      <td>POS</td>\n",
              "    </tr>\n",
              "    <tr>\n",
              "      <th>4</th>\n",
              "      <td>adhiero malisimo de una hora y media que duro podria haberlo terminado de leer en media hora todo bien que seas del partido y te guste milei pero tampoco para andar como zombie descerebrado a aplaudirle por cada cosa que dice</td>\n",
              "      <td>NEG</td>\n",
              "    </tr>\n",
              "    <tr>\n",
              "      <th>...</th>\n",
              "      <td>...</td>\n",
              "      <td>...</td>\n",
              "    </tr>\n",
              "    <tr>\n",
              "      <th>1496</th>\n",
              "      <td>Es que fue así. No hay un ganador como tal, pero al ir al debate cada uno tiene una finalidad. Massa consiguio todos los videos para tik tok que quizo y asi reafirmar los votos antimilei, y los del kirchnerismo por haberlos representado bien. Y era la oportunidad de Milei de atraer votos nuevos pero medio debate solo le fue funcional a Massa y en la otra mitad no hizo mucho.\\n\\nEl único que cumplio con su meta fue Massa</td>\n",
              "      <td>NEU</td>\n",
              "    </tr>\n",
              "    <tr>\n",
              "      <th>1497</th>\n",
              "      <td>Pobre Milei. Admito que me dio algo de penita. Lo hizo demasiado bien, no es para nada su zona de confort. Por algo a Massa lo votan a pesar de ser la causa del problema. Es un politico de alta estirpe. Milei no lo es, y le costó hacerse entender</td>\n",
              "      <td>POS</td>\n",
              "    </tr>\n",
              "    <tr>\n",
              "      <th>1498</th>\n",
              "      <td>Con este gobierno Clarin se convirtió en la izquierda diario y LN+ debe ser el diario que mas fakes le hizo a Milei.\\n\\nAdemás salvo los +50 quien mierda lee el diario hoy en día? Dejaron de ser medios de información para ser medios de opinión sesgada</td>\n",
              "      <td>NEG</td>\n",
              "    </tr>\n",
              "    <tr>\n",
              "      <th>1499</th>\n",
              "      <td>Lo tranquilo que me pone Milei cuando empieza a hablar. Solito se va enterrando.</td>\n",
              "      <td>NEG</td>\n",
              "    </tr>\n",
              "    <tr>\n",
              "      <th>1500</th>\n",
              "      <td>claramente gano massa porque lo unico que hizo fue destruir cada una de las propuestas de milei y perder el tiempo. Para massa es un juego, para milei es resolver el desastre que los kirchos hicieron durante 20 años.\\n\\nY las propuestas de massa?. Googlea compañere, googlea!</td>\n",
              "      <td>POS</td>\n",
              "    </tr>\n",
              "  </tbody>\n",
              "</table>\n",
              "<p>1501 rows × 2 columns</p>\n",
              "</div>\n",
              "    <div class=\"colab-df-buttons\">\n",
              "\n",
              "  <div class=\"colab-df-container\">\n",
              "    <button class=\"colab-df-convert\" onclick=\"convertToInteractive('df-05921270-2469-4ade-b19e-404725f454b0')\"\n",
              "            title=\"Convert this dataframe to an interactive table.\"\n",
              "            style=\"display:none;\">\n",
              "\n",
              "  <svg xmlns=\"http://www.w3.org/2000/svg\" height=\"24px\" viewBox=\"0 -960 960 960\">\n",
              "    <path d=\"M120-120v-720h720v720H120Zm60-500h600v-160H180v160Zm220 220h160v-160H400v160Zm0 220h160v-160H400v160ZM180-400h160v-160H180v160Zm440 0h160v-160H620v160ZM180-180h160v-160H180v160Zm440 0h160v-160H620v160Z\"/>\n",
              "  </svg>\n",
              "    </button>\n",
              "\n",
              "  <style>\n",
              "    .colab-df-container {\n",
              "      display:flex;\n",
              "      gap: 12px;\n",
              "    }\n",
              "\n",
              "    .colab-df-convert {\n",
              "      background-color: #E8F0FE;\n",
              "      border: none;\n",
              "      border-radius: 50%;\n",
              "      cursor: pointer;\n",
              "      display: none;\n",
              "      fill: #1967D2;\n",
              "      height: 32px;\n",
              "      padding: 0 0 0 0;\n",
              "      width: 32px;\n",
              "    }\n",
              "\n",
              "    .colab-df-convert:hover {\n",
              "      background-color: #E2EBFA;\n",
              "      box-shadow: 0px 1px 2px rgba(60, 64, 67, 0.3), 0px 1px 3px 1px rgba(60, 64, 67, 0.15);\n",
              "      fill: #174EA6;\n",
              "    }\n",
              "\n",
              "    .colab-df-buttons div {\n",
              "      margin-bottom: 4px;\n",
              "    }\n",
              "\n",
              "    [theme=dark] .colab-df-convert {\n",
              "      background-color: #3B4455;\n",
              "      fill: #D2E3FC;\n",
              "    }\n",
              "\n",
              "    [theme=dark] .colab-df-convert:hover {\n",
              "      background-color: #434B5C;\n",
              "      box-shadow: 0px 1px 3px 1px rgba(0, 0, 0, 0.15);\n",
              "      filter: drop-shadow(0px 1px 2px rgba(0, 0, 0, 0.3));\n",
              "      fill: #FFFFFF;\n",
              "    }\n",
              "  </style>\n",
              "\n",
              "    <script>\n",
              "      const buttonEl =\n",
              "        document.querySelector('#df-05921270-2469-4ade-b19e-404725f454b0 button.colab-df-convert');\n",
              "      buttonEl.style.display =\n",
              "        google.colab.kernel.accessAllowed ? 'block' : 'none';\n",
              "\n",
              "      async function convertToInteractive(key) {\n",
              "        const element = document.querySelector('#df-05921270-2469-4ade-b19e-404725f454b0');\n",
              "        const dataTable =\n",
              "          await google.colab.kernel.invokeFunction('convertToInteractive',\n",
              "                                                    [key], {});\n",
              "        if (!dataTable) return;\n",
              "\n",
              "        const docLinkHtml = 'Like what you see? Visit the ' +\n",
              "          '<a target=\"_blank\" href=https://colab.research.google.com/notebooks/data_table.ipynb>data table notebook</a>'\n",
              "          + ' to learn more about interactive tables.';\n",
              "        element.innerHTML = '';\n",
              "        dataTable['output_type'] = 'display_data';\n",
              "        await google.colab.output.renderOutput(dataTable, element);\n",
              "        const docLink = document.createElement('div');\n",
              "        docLink.innerHTML = docLinkHtml;\n",
              "        element.appendChild(docLink);\n",
              "      }\n",
              "    </script>\n",
              "  </div>\n",
              "\n",
              "\n",
              "<div id=\"df-4b8d3b53-67be-4e6c-b24e-bc2b393de119\">\n",
              "  <button class=\"colab-df-quickchart\" onclick=\"quickchart('df-4b8d3b53-67be-4e6c-b24e-bc2b393de119')\"\n",
              "            title=\"Suggest charts\"\n",
              "            style=\"display:none;\">\n",
              "\n",
              "<svg xmlns=\"http://www.w3.org/2000/svg\" height=\"24px\"viewBox=\"0 0 24 24\"\n",
              "     width=\"24px\">\n",
              "    <g>\n",
              "        <path d=\"M19 3H5c-1.1 0-2 .9-2 2v14c0 1.1.9 2 2 2h14c1.1 0 2-.9 2-2V5c0-1.1-.9-2-2-2zM9 17H7v-7h2v7zm4 0h-2V7h2v10zm4 0h-2v-4h2v4z\"/>\n",
              "    </g>\n",
              "</svg>\n",
              "  </button>\n",
              "\n",
              "<style>\n",
              "  .colab-df-quickchart {\n",
              "      --bg-color: #E8F0FE;\n",
              "      --fill-color: #1967D2;\n",
              "      --hover-bg-color: #E2EBFA;\n",
              "      --hover-fill-color: #174EA6;\n",
              "      --disabled-fill-color: #AAA;\n",
              "      --disabled-bg-color: #DDD;\n",
              "  }\n",
              "\n",
              "  [theme=dark] .colab-df-quickchart {\n",
              "      --bg-color: #3B4455;\n",
              "      --fill-color: #D2E3FC;\n",
              "      --hover-bg-color: #434B5C;\n",
              "      --hover-fill-color: #FFFFFF;\n",
              "      --disabled-bg-color: #3B4455;\n",
              "      --disabled-fill-color: #666;\n",
              "  }\n",
              "\n",
              "  .colab-df-quickchart {\n",
              "    background-color: var(--bg-color);\n",
              "    border: none;\n",
              "    border-radius: 50%;\n",
              "    cursor: pointer;\n",
              "    display: none;\n",
              "    fill: var(--fill-color);\n",
              "    height: 32px;\n",
              "    padding: 0;\n",
              "    width: 32px;\n",
              "  }\n",
              "\n",
              "  .colab-df-quickchart:hover {\n",
              "    background-color: var(--hover-bg-color);\n",
              "    box-shadow: 0 1px 2px rgba(60, 64, 67, 0.3), 0 1px 3px 1px rgba(60, 64, 67, 0.15);\n",
              "    fill: var(--button-hover-fill-color);\n",
              "  }\n",
              "\n",
              "  .colab-df-quickchart-complete:disabled,\n",
              "  .colab-df-quickchart-complete:disabled:hover {\n",
              "    background-color: var(--disabled-bg-color);\n",
              "    fill: var(--disabled-fill-color);\n",
              "    box-shadow: none;\n",
              "  }\n",
              "\n",
              "  .colab-df-spinner {\n",
              "    border: 2px solid var(--fill-color);\n",
              "    border-color: transparent;\n",
              "    border-bottom-color: var(--fill-color);\n",
              "    animation:\n",
              "      spin 1s steps(1) infinite;\n",
              "  }\n",
              "\n",
              "  @keyframes spin {\n",
              "    0% {\n",
              "      border-color: transparent;\n",
              "      border-bottom-color: var(--fill-color);\n",
              "      border-left-color: var(--fill-color);\n",
              "    }\n",
              "    20% {\n",
              "      border-color: transparent;\n",
              "      border-left-color: var(--fill-color);\n",
              "      border-top-color: var(--fill-color);\n",
              "    }\n",
              "    30% {\n",
              "      border-color: transparent;\n",
              "      border-left-color: var(--fill-color);\n",
              "      border-top-color: var(--fill-color);\n",
              "      border-right-color: var(--fill-color);\n",
              "    }\n",
              "    40% {\n",
              "      border-color: transparent;\n",
              "      border-right-color: var(--fill-color);\n",
              "      border-top-color: var(--fill-color);\n",
              "    }\n",
              "    60% {\n",
              "      border-color: transparent;\n",
              "      border-right-color: var(--fill-color);\n",
              "    }\n",
              "    80% {\n",
              "      border-color: transparent;\n",
              "      border-right-color: var(--fill-color);\n",
              "      border-bottom-color: var(--fill-color);\n",
              "    }\n",
              "    90% {\n",
              "      border-color: transparent;\n",
              "      border-bottom-color: var(--fill-color);\n",
              "    }\n",
              "  }\n",
              "</style>\n",
              "\n",
              "  <script>\n",
              "    async function quickchart(key) {\n",
              "      const quickchartButtonEl =\n",
              "        document.querySelector('#' + key + ' button');\n",
              "      quickchartButtonEl.disabled = true;  // To prevent multiple clicks.\n",
              "      quickchartButtonEl.classList.add('colab-df-spinner');\n",
              "      try {\n",
              "        const charts = await google.colab.kernel.invokeFunction(\n",
              "            'suggestCharts', [key], {});\n",
              "      } catch (error) {\n",
              "        console.error('Error during call to suggestCharts:', error);\n",
              "      }\n",
              "      quickchartButtonEl.classList.remove('colab-df-spinner');\n",
              "      quickchartButtonEl.classList.add('colab-df-quickchart-complete');\n",
              "    }\n",
              "    (() => {\n",
              "      let quickchartButtonEl =\n",
              "        document.querySelector('#df-4b8d3b53-67be-4e6c-b24e-bc2b393de119 button');\n",
              "      quickchartButtonEl.style.display =\n",
              "        google.colab.kernel.accessAllowed ? 'block' : 'none';\n",
              "    })();\n",
              "  </script>\n",
              "</div>\n",
              "\n",
              "  <div id=\"id_a1143c0e-3312-4335-a285-39801084b76f\">\n",
              "    <style>\n",
              "      .colab-df-generate {\n",
              "        background-color: #E8F0FE;\n",
              "        border: none;\n",
              "        border-radius: 50%;\n",
              "        cursor: pointer;\n",
              "        display: none;\n",
              "        fill: #1967D2;\n",
              "        height: 32px;\n",
              "        padding: 0 0 0 0;\n",
              "        width: 32px;\n",
              "      }\n",
              "\n",
              "      .colab-df-generate:hover {\n",
              "        background-color: #E2EBFA;\n",
              "        box-shadow: 0px 1px 2px rgba(60, 64, 67, 0.3), 0px 1px 3px 1px rgba(60, 64, 67, 0.15);\n",
              "        fill: #174EA6;\n",
              "      }\n",
              "\n",
              "      [theme=dark] .colab-df-generate {\n",
              "        background-color: #3B4455;\n",
              "        fill: #D2E3FC;\n",
              "      }\n",
              "\n",
              "      [theme=dark] .colab-df-generate:hover {\n",
              "        background-color: #434B5C;\n",
              "        box-shadow: 0px 1px 3px 1px rgba(0, 0, 0, 0.15);\n",
              "        filter: drop-shadow(0px 1px 2px rgba(0, 0, 0, 0.3));\n",
              "        fill: #FFFFFF;\n",
              "      }\n",
              "    </style>\n",
              "    <button class=\"colab-df-generate\" onclick=\"generateWithVariable('df')\"\n",
              "            title=\"Generate code using this dataframe.\"\n",
              "            style=\"display:none;\">\n",
              "\n",
              "  <svg xmlns=\"http://www.w3.org/2000/svg\" height=\"24px\"viewBox=\"0 0 24 24\"\n",
              "       width=\"24px\">\n",
              "    <path d=\"M7,19H8.4L18.45,9,17,7.55,7,17.6ZM5,21V16.75L18.45,3.32a2,2,0,0,1,2.83,0l1.4,1.43a1.91,1.91,0,0,1,.58,1.4,1.91,1.91,0,0,1-.58,1.4L9.25,21ZM18.45,9,17,7.55Zm-12,3A5.31,5.31,0,0,0,4.9,8.1,5.31,5.31,0,0,0,1,6.5,5.31,5.31,0,0,0,4.9,4.9,5.31,5.31,0,0,0,6.5,1,5.31,5.31,0,0,0,8.1,4.9,5.31,5.31,0,0,0,12,6.5,5.46,5.46,0,0,0,6.5,12Z\"/>\n",
              "  </svg>\n",
              "    </button>\n",
              "    <script>\n",
              "      (() => {\n",
              "      const buttonEl =\n",
              "        document.querySelector('#id_a1143c0e-3312-4335-a285-39801084b76f button.colab-df-generate');\n",
              "      buttonEl.style.display =\n",
              "        google.colab.kernel.accessAllowed ? 'block' : 'none';\n",
              "\n",
              "      buttonEl.onclick = () => {\n",
              "        google.colab.notebook.generateWithVariable('df');\n",
              "      }\n",
              "      })();\n",
              "    </script>\n",
              "  </div>\n",
              "\n",
              "    </div>\n",
              "  </div>\n"
            ],
            "application/vnd.google.colaboratory.intrinsic+json": {
              "type": "dataframe",
              "variable_name": "df",
              "summary": "{\n  \"name\": \"df\",\n  \"rows\": 1501,\n  \"fields\": [\n    {\n      \"column\": \"coms\",\n      \"properties\": {\n        \"dtype\": \"string\",\n        \"num_unique_values\": 1501,\n        \"samples\": [\n          \"Empieza a sobrevolar la idea de que gane Milei para que le explote todo. \\nVa a ser otro presidente de un solo mandato\",\n          \"Despu\\u00e9s de toda la campa\\u00f1a de miedo que hicieron nos sorprende? Esa misma gente voto milei x miedo\",\n          \"No s\\u00e9 qu\\u00e9 flashean que el peronismo iba a dejarlo gobernar en paz, desde hace rato ven\\u00edan avisando que iban a hacer protestas, piquetes e iban a seguir politizando. Milei, si tiene dos dedos de frente, se da cuenta que iba a pasar esto, no seas boludo.\\n\\nMe dan m\\u00e1s bronca ustedes por infantilizar a este chab\\u00f3n como si fuese un pobre pelotudo que est\\u00e1 llorando en una esquina porque \\\"no lo dejan gobernar\\\".\"\n        ],\n        \"semantic_type\": \"\",\n        \"description\": \"\"\n      }\n    },\n    {\n      \"column\": \"sent\",\n      \"properties\": {\n        \"dtype\": \"category\",\n        \"num_unique_values\": 3,\n        \"samples\": [\n          \"NEG\",\n          \"NEU\",\n          \"POS\"\n        ],\n        \"semantic_type\": \"\",\n        \"description\": \"\"\n      }\n    }\n  ]\n}"
            }
          },
          "metadata": {},
          "execution_count": 50
        }
      ]
    },
    {
      "cell_type": "code",
      "source": [
        "# El método info() en Python, cuando se aplica a un DataFrame de Pandas (df),\n",
        "# proporciona una visión general concisa del DataFrame,\n",
        "# incluyendo la cantidad de filas y columnas,\n",
        "# los tipos de datos de cada columna y la cantidad de valores no nulos en cada columna.\n",
        "# Es una herramienta útil para comprender la estructura y la composición de un DataFrame en Pandas.\n",
        "\n",
        "df.info()"
      ],
      "metadata": {
        "id": "atPyhc8kudO6",
        "colab": {
          "base_uri": "https://localhost:8080/"
        },
        "outputId": "2c067adc-52cb-4d01-ad2e-25563c21a171"
      },
      "execution_count": 51,
      "outputs": [
        {
          "output_type": "stream",
          "name": "stdout",
          "text": [
            "<class 'pandas.core.frame.DataFrame'>\n",
            "RangeIndex: 1501 entries, 0 to 1500\n",
            "Data columns (total 2 columns):\n",
            " #   Column  Non-Null Count  Dtype \n",
            "---  ------  --------------  ----- \n",
            " 0   coms    1501 non-null   object\n",
            " 1   sent    1501 non-null   object\n",
            "dtypes: object(2)\n",
            "memory usage: 23.6+ KB\n"
          ]
        }
      ]
    },
    {
      "cell_type": "code",
      "source": [
        "# Muestro los valores unicos de la columna sent\n",
        "\n",
        "df['sent'].unique()\n"
      ],
      "metadata": {
        "id": "vPU1HDryucbz",
        "colab": {
          "base_uri": "https://localhost:8080/"
        },
        "outputId": "9557b62e-3d13-464a-dff1-504c51984c1e"
      },
      "execution_count": 52,
      "outputs": [
        {
          "output_type": "execute_result",
          "data": {
            "text/plain": [
              "array(['NEG', 'NEU', 'POS'], dtype=object)"
            ]
          },
          "metadata": {},
          "execution_count": 52
        }
      ]
    },
    {
      "cell_type": "code",
      "source": [
        "# Muestro los valores unicos de la columna sent\n",
        "\n",
        "df['sent'].nunique()"
      ],
      "metadata": {
        "id": "5VFehn8YucYp",
        "colab": {
          "base_uri": "https://localhost:8080/"
        },
        "outputId": "9fbddc6a-d8d0-495f-db30-7c99eab6fb30"
      },
      "execution_count": 53,
      "outputs": [
        {
          "output_type": "execute_result",
          "data": {
            "text/plain": [
              "3"
            ]
          },
          "metadata": {},
          "execution_count": 53
        }
      ]
    },
    {
      "cell_type": "code",
      "source": [
        "# Cuenta la cantidad de valores de cada categoría en la columna \"sent\"\n",
        "frecuencias = df['sent'].value_counts()\n",
        "\n",
        "# Imprime las frecuencias\n",
        "print(frecuencias)"
      ],
      "metadata": {
        "id": "V9di0IkiucVr",
        "colab": {
          "base_uri": "https://localhost:8080/"
        },
        "outputId": "7e120f16-6e14-4ef9-8f5a-1c13c8654daa"
      },
      "execution_count": 54,
      "outputs": [
        {
          "output_type": "stream",
          "name": "stdout",
          "text": [
            "sent\n",
            "NEG    597\n",
            "NEU    560\n",
            "POS    344\n",
            "Name: count, dtype: int64\n"
          ]
        }
      ]
    },
    {
      "cell_type": "markdown",
      "source": [
        "***El código de Python*** \"nlp = spacy.load('es_core_news_sm')\" ***sirve para cargar un modelo de lenguaje pre-entrenado para español de la biblioteca spaCy.*** ***Este modelo te permite realizar diversas tareas de procesamiento de lenguaje natural (PLN) en español, como:***\n",
        "\n",
        "***Tokenización:*** Divide el texto en unidades más pequeñas, como palabras, puntuación y símbolos.*\n",
        "\n",
        "***Lematización:*** Reduce las palabras a su forma base o lema.\n",
        "\n",
        "***Etiquetado morfológico:*** Identifica la categoría gramatical de cada palabra (sustantivo, verbo, adjetivo, etc.).\n",
        "\n",
        "***Análisis sintáctico:*** Determina la estructura de la oración y la relación entre las palabras.\n",
        "\n",
        "***Reconocimiento de entidades nombradas:*** Identifica nombres propios de personas, lugares, organizaciones, etc.\n",
        "\n",
        "***Análisis de sentimientos:*** Predice el sentimiento o la emoción expresada en un texto.\n",
        "\n",
        "***El modelo es_core_news_sm es un modelo pequeño, lo que significa que es rápido y eficiente, pero puede no ser tan preciso como los modelos más grandes. Si necesitas mayor precisión, puedes usar un modelo como es_core_news_md o es_core_news_lg.***"
      ],
      "metadata": {
        "id": "5ZYmhkuyIEsC"
      }
    },
    {
      "cell_type": "code",
      "source": [
        "nlp = spacy.load('es_core_news_sm')"
      ],
      "metadata": {
        "id": "IMTn6UL3ucSl"
      },
      "execution_count": 55,
      "outputs": []
    },
    {
      "cell_type": "code",
      "source": [
        "def clean_text(text):\n",
        "    doc = nlp(text)\n",
        "    clean_text = [token.lemma_.lower() for token in doc if not token.is_stop and not token.is_punct]\n",
        "    return \" \".join(clean_text)\n",
        "\n",
        "# Aplico la función a la columna de coms del df\n",
        "df['coms'] = df['coms'].apply(clean_text)"
      ],
      "metadata": {
        "id": "nUsgmjsVJcTL"
      },
      "execution_count": 56,
      "outputs": []
    },
    {
      "cell_type": "code",
      "source": [
        "df.head()"
      ],
      "metadata": {
        "colab": {
          "base_uri": "https://localhost:8080/",
          "height": 313
        },
        "id": "CrmLo_jhJcQx",
        "outputId": "e862f92d-9657-4683-b55c-1b214df147a8"
      },
      "execution_count": 57,
      "outputs": [
        {
          "output_type": "execute_result",
          "data": {
            "text/plain": [
              "                                                                                                                                                                                                                             coms  \\\n",
              "0                             > pd insoportable foca camporista aplaudidora lejos dejar hablar milei alargar discurso innecesariamente loca gritar \\n\\n boludo terrible sentar 10 punto durar eternidad aplauso discursir momento   \n",
              "1                                                                                                                                                                         jubilación privilegio milei alcanzariar milei vice noma   \n",
              "2  anti milei admito \\n\\n loable medida reducir eliminir curro politica \\n\\n gustar democratización sindicato \\n\\n ir allá tocar dieta viatico diputado senador decir ganar docente caño etc. dar él algun marco regulatorio baja   \n",
              "3                                                                                                                                                                                                                     metro milei   \n",
              "4                                                                                          adhiero malisimo hora medio duro haber él terminar leer medio hora sea partido gustar milei andar zombie descerebrado aplaudir él cosa   \n",
              "\n",
              "  sent  \n",
              "0  NEG  \n",
              "1  NEU  \n",
              "2  NEU  \n",
              "3  POS  \n",
              "4  NEG  "
            ],
            "text/html": [
              "\n",
              "  <div id=\"df-1435ce5e-faf0-4d77-a626-033a0347731d\" class=\"colab-df-container\">\n",
              "    <div>\n",
              "<style scoped>\n",
              "    .dataframe tbody tr th:only-of-type {\n",
              "        vertical-align: middle;\n",
              "    }\n",
              "\n",
              "    .dataframe tbody tr th {\n",
              "        vertical-align: top;\n",
              "    }\n",
              "\n",
              "    .dataframe thead th {\n",
              "        text-align: right;\n",
              "    }\n",
              "</style>\n",
              "<table border=\"1\" class=\"dataframe\">\n",
              "  <thead>\n",
              "    <tr style=\"text-align: right;\">\n",
              "      <th></th>\n",
              "      <th>coms</th>\n",
              "      <th>sent</th>\n",
              "    </tr>\n",
              "  </thead>\n",
              "  <tbody>\n",
              "    <tr>\n",
              "      <th>0</th>\n",
              "      <td>&gt; pd insoportable foca camporista aplaudidora lejos dejar hablar milei alargar discurso innecesariamente loca gritar \\n\\n boludo terrible sentar 10 punto durar eternidad aplauso discursir momento</td>\n",
              "      <td>NEG</td>\n",
              "    </tr>\n",
              "    <tr>\n",
              "      <th>1</th>\n",
              "      <td>jubilación privilegio milei alcanzariar milei vice noma</td>\n",
              "      <td>NEU</td>\n",
              "    </tr>\n",
              "    <tr>\n",
              "      <th>2</th>\n",
              "      <td>anti milei admito \\n\\n loable medida reducir eliminir curro politica \\n\\n gustar democratización sindicato \\n\\n ir allá tocar dieta viatico diputado senador decir ganar docente caño etc. dar él algun marco regulatorio baja</td>\n",
              "      <td>NEU</td>\n",
              "    </tr>\n",
              "    <tr>\n",
              "      <th>3</th>\n",
              "      <td>metro milei</td>\n",
              "      <td>POS</td>\n",
              "    </tr>\n",
              "    <tr>\n",
              "      <th>4</th>\n",
              "      <td>adhiero malisimo hora medio duro haber él terminar leer medio hora sea partido gustar milei andar zombie descerebrado aplaudir él cosa</td>\n",
              "      <td>NEG</td>\n",
              "    </tr>\n",
              "  </tbody>\n",
              "</table>\n",
              "</div>\n",
              "    <div class=\"colab-df-buttons\">\n",
              "\n",
              "  <div class=\"colab-df-container\">\n",
              "    <button class=\"colab-df-convert\" onclick=\"convertToInteractive('df-1435ce5e-faf0-4d77-a626-033a0347731d')\"\n",
              "            title=\"Convert this dataframe to an interactive table.\"\n",
              "            style=\"display:none;\">\n",
              "\n",
              "  <svg xmlns=\"http://www.w3.org/2000/svg\" height=\"24px\" viewBox=\"0 -960 960 960\">\n",
              "    <path d=\"M120-120v-720h720v720H120Zm60-500h600v-160H180v160Zm220 220h160v-160H400v160Zm0 220h160v-160H400v160ZM180-400h160v-160H180v160Zm440 0h160v-160H620v160ZM180-180h160v-160H180v160Zm440 0h160v-160H620v160Z\"/>\n",
              "  </svg>\n",
              "    </button>\n",
              "\n",
              "  <style>\n",
              "    .colab-df-container {\n",
              "      display:flex;\n",
              "      gap: 12px;\n",
              "    }\n",
              "\n",
              "    .colab-df-convert {\n",
              "      background-color: #E8F0FE;\n",
              "      border: none;\n",
              "      border-radius: 50%;\n",
              "      cursor: pointer;\n",
              "      display: none;\n",
              "      fill: #1967D2;\n",
              "      height: 32px;\n",
              "      padding: 0 0 0 0;\n",
              "      width: 32px;\n",
              "    }\n",
              "\n",
              "    .colab-df-convert:hover {\n",
              "      background-color: #E2EBFA;\n",
              "      box-shadow: 0px 1px 2px rgba(60, 64, 67, 0.3), 0px 1px 3px 1px rgba(60, 64, 67, 0.15);\n",
              "      fill: #174EA6;\n",
              "    }\n",
              "\n",
              "    .colab-df-buttons div {\n",
              "      margin-bottom: 4px;\n",
              "    }\n",
              "\n",
              "    [theme=dark] .colab-df-convert {\n",
              "      background-color: #3B4455;\n",
              "      fill: #D2E3FC;\n",
              "    }\n",
              "\n",
              "    [theme=dark] .colab-df-convert:hover {\n",
              "      background-color: #434B5C;\n",
              "      box-shadow: 0px 1px 3px 1px rgba(0, 0, 0, 0.15);\n",
              "      filter: drop-shadow(0px 1px 2px rgba(0, 0, 0, 0.3));\n",
              "      fill: #FFFFFF;\n",
              "    }\n",
              "  </style>\n",
              "\n",
              "    <script>\n",
              "      const buttonEl =\n",
              "        document.querySelector('#df-1435ce5e-faf0-4d77-a626-033a0347731d button.colab-df-convert');\n",
              "      buttonEl.style.display =\n",
              "        google.colab.kernel.accessAllowed ? 'block' : 'none';\n",
              "\n",
              "      async function convertToInteractive(key) {\n",
              "        const element = document.querySelector('#df-1435ce5e-faf0-4d77-a626-033a0347731d');\n",
              "        const dataTable =\n",
              "          await google.colab.kernel.invokeFunction('convertToInteractive',\n",
              "                                                    [key], {});\n",
              "        if (!dataTable) return;\n",
              "\n",
              "        const docLinkHtml = 'Like what you see? Visit the ' +\n",
              "          '<a target=\"_blank\" href=https://colab.research.google.com/notebooks/data_table.ipynb>data table notebook</a>'\n",
              "          + ' to learn more about interactive tables.';\n",
              "        element.innerHTML = '';\n",
              "        dataTable['output_type'] = 'display_data';\n",
              "        await google.colab.output.renderOutput(dataTable, element);\n",
              "        const docLink = document.createElement('div');\n",
              "        docLink.innerHTML = docLinkHtml;\n",
              "        element.appendChild(docLink);\n",
              "      }\n",
              "    </script>\n",
              "  </div>\n",
              "\n",
              "\n",
              "<div id=\"df-7b098521-8e3b-42c5-9157-39dfa3a8c373\">\n",
              "  <button class=\"colab-df-quickchart\" onclick=\"quickchart('df-7b098521-8e3b-42c5-9157-39dfa3a8c373')\"\n",
              "            title=\"Suggest charts\"\n",
              "            style=\"display:none;\">\n",
              "\n",
              "<svg xmlns=\"http://www.w3.org/2000/svg\" height=\"24px\"viewBox=\"0 0 24 24\"\n",
              "     width=\"24px\">\n",
              "    <g>\n",
              "        <path d=\"M19 3H5c-1.1 0-2 .9-2 2v14c0 1.1.9 2 2 2h14c1.1 0 2-.9 2-2V5c0-1.1-.9-2-2-2zM9 17H7v-7h2v7zm4 0h-2V7h2v10zm4 0h-2v-4h2v4z\"/>\n",
              "    </g>\n",
              "</svg>\n",
              "  </button>\n",
              "\n",
              "<style>\n",
              "  .colab-df-quickchart {\n",
              "      --bg-color: #E8F0FE;\n",
              "      --fill-color: #1967D2;\n",
              "      --hover-bg-color: #E2EBFA;\n",
              "      --hover-fill-color: #174EA6;\n",
              "      --disabled-fill-color: #AAA;\n",
              "      --disabled-bg-color: #DDD;\n",
              "  }\n",
              "\n",
              "  [theme=dark] .colab-df-quickchart {\n",
              "      --bg-color: #3B4455;\n",
              "      --fill-color: #D2E3FC;\n",
              "      --hover-bg-color: #434B5C;\n",
              "      --hover-fill-color: #FFFFFF;\n",
              "      --disabled-bg-color: #3B4455;\n",
              "      --disabled-fill-color: #666;\n",
              "  }\n",
              "\n",
              "  .colab-df-quickchart {\n",
              "    background-color: var(--bg-color);\n",
              "    border: none;\n",
              "    border-radius: 50%;\n",
              "    cursor: pointer;\n",
              "    display: none;\n",
              "    fill: var(--fill-color);\n",
              "    height: 32px;\n",
              "    padding: 0;\n",
              "    width: 32px;\n",
              "  }\n",
              "\n",
              "  .colab-df-quickchart:hover {\n",
              "    background-color: var(--hover-bg-color);\n",
              "    box-shadow: 0 1px 2px rgba(60, 64, 67, 0.3), 0 1px 3px 1px rgba(60, 64, 67, 0.15);\n",
              "    fill: var(--button-hover-fill-color);\n",
              "  }\n",
              "\n",
              "  .colab-df-quickchart-complete:disabled,\n",
              "  .colab-df-quickchart-complete:disabled:hover {\n",
              "    background-color: var(--disabled-bg-color);\n",
              "    fill: var(--disabled-fill-color);\n",
              "    box-shadow: none;\n",
              "  }\n",
              "\n",
              "  .colab-df-spinner {\n",
              "    border: 2px solid var(--fill-color);\n",
              "    border-color: transparent;\n",
              "    border-bottom-color: var(--fill-color);\n",
              "    animation:\n",
              "      spin 1s steps(1) infinite;\n",
              "  }\n",
              "\n",
              "  @keyframes spin {\n",
              "    0% {\n",
              "      border-color: transparent;\n",
              "      border-bottom-color: var(--fill-color);\n",
              "      border-left-color: var(--fill-color);\n",
              "    }\n",
              "    20% {\n",
              "      border-color: transparent;\n",
              "      border-left-color: var(--fill-color);\n",
              "      border-top-color: var(--fill-color);\n",
              "    }\n",
              "    30% {\n",
              "      border-color: transparent;\n",
              "      border-left-color: var(--fill-color);\n",
              "      border-top-color: var(--fill-color);\n",
              "      border-right-color: var(--fill-color);\n",
              "    }\n",
              "    40% {\n",
              "      border-color: transparent;\n",
              "      border-right-color: var(--fill-color);\n",
              "      border-top-color: var(--fill-color);\n",
              "    }\n",
              "    60% {\n",
              "      border-color: transparent;\n",
              "      border-right-color: var(--fill-color);\n",
              "    }\n",
              "    80% {\n",
              "      border-color: transparent;\n",
              "      border-right-color: var(--fill-color);\n",
              "      border-bottom-color: var(--fill-color);\n",
              "    }\n",
              "    90% {\n",
              "      border-color: transparent;\n",
              "      border-bottom-color: var(--fill-color);\n",
              "    }\n",
              "  }\n",
              "</style>\n",
              "\n",
              "  <script>\n",
              "    async function quickchart(key) {\n",
              "      const quickchartButtonEl =\n",
              "        document.querySelector('#' + key + ' button');\n",
              "      quickchartButtonEl.disabled = true;  // To prevent multiple clicks.\n",
              "      quickchartButtonEl.classList.add('colab-df-spinner');\n",
              "      try {\n",
              "        const charts = await google.colab.kernel.invokeFunction(\n",
              "            'suggestCharts', [key], {});\n",
              "      } catch (error) {\n",
              "        console.error('Error during call to suggestCharts:', error);\n",
              "      }\n",
              "      quickchartButtonEl.classList.remove('colab-df-spinner');\n",
              "      quickchartButtonEl.classList.add('colab-df-quickchart-complete');\n",
              "    }\n",
              "    (() => {\n",
              "      let quickchartButtonEl =\n",
              "        document.querySelector('#df-7b098521-8e3b-42c5-9157-39dfa3a8c373 button');\n",
              "      quickchartButtonEl.style.display =\n",
              "        google.colab.kernel.accessAllowed ? 'block' : 'none';\n",
              "    })();\n",
              "  </script>\n",
              "</div>\n",
              "\n",
              "    </div>\n",
              "  </div>\n"
            ],
            "application/vnd.google.colaboratory.intrinsic+json": {
              "type": "dataframe",
              "variable_name": "df",
              "summary": "{\n  \"name\": \"df\",\n  \"rows\": 1501,\n  \"fields\": [\n    {\n      \"column\": \"coms\",\n      \"properties\": {\n        \"dtype\": \"string\",\n        \"num_unique_values\": 1497,\n        \"samples\": [\n          \"decir frase venir derechos kirchnerista contar hijo puta sacar terreno casa madre hijo momento tirar milei\",\n          \"aumentar sueldo gente trabajar aportar 30 a\\u00f1o votar faltar a\\u00f1o morir \\u00e9l aumentar auh tarjeta alimentar gordo villera rosarina](https://youtu.be ka2wxazkm0k?si = gfvx3wz_yshqgzs7&t=1128 15 hijo milei garantizar voto elecci\\u00f3n 2025\",\n          \"i definitely understand but milei haber beir so sweeping with changes it is not like typical transition of power \\n\\n here the removal of rent law haber beir praised as it is claimed rent priz have plummeted but therar is mention about the quality of new rentals on the market etc. these are the things i\\u2019m interested in learning\"\n        ],\n        \"semantic_type\": \"\",\n        \"description\": \"\"\n      }\n    },\n    {\n      \"column\": \"sent\",\n      \"properties\": {\n        \"dtype\": \"category\",\n        \"num_unique_values\": 3,\n        \"samples\": [\n          \"NEG\",\n          \"NEU\",\n          \"POS\"\n        ],\n        \"semantic_type\": \"\",\n        \"description\": \"\"\n      }\n    }\n  ]\n}"
            }
          },
          "metadata": {},
          "execution_count": 57
        }
      ]
    },
    {
      "cell_type": "code",
      "source": [
        "# Función para eliminar emojis y otros caracteres no deseados de un texto\n",
        "def limpiar_texto(texto):\n",
        "    # Patrón de emojis\n",
        "    emoji_pattern = re.compile(\"[\"\n",
        "                               u\"\\U0001F600-\\U0001F64F\"  # emoticonos generales\n",
        "                               u\"\\U0001F300-\\U0001F5FF\"  # símbolos y pictogramas\n",
        "                               u\"\\U0001F680-\\U0001F6FF\"  # símbolos de transporte y mapa\n",
        "                               u\"\\U0001F1E0-\\U0001F1FF\"  # banderas (iOS)\n",
        "                               u\"\\U00002500-\\U00002BEF\"  # caracteres chinos comunes\n",
        "                               u\"\\U00002702-\\U000027B0\"\n",
        "                               u\"\\U00002702-\\U000027B0\"\n",
        "                               u\"\\U000024C2-\\U0001F251\"\n",
        "                               u\"\\U0001f926-\\U0001f937\"\n",
        "                               u\"\\U00010000-\\U0010ffff\"\n",
        "                               u\"\\u2640-\\u2642\"\n",
        "                               u\"\\u2600-\\u2B55\"\n",
        "                               u\"\\u200d\"\n",
        "                               u\"\\u23cf\"\n",
        "                               u\"\\u23e9\"\n",
        "                               u\"\\u231a\"\n",
        "                               u\"\\ufe0f\"  # selectores de estilo\n",
        "                               u\"\\u3030\"\n",
        "                               \"]+\", flags=re.UNICODE)\n",
        "    # Eliminar emojis y otros caracteres no deseados\n",
        "    return emoji_pattern.sub(r'', texto)\n",
        "\n",
        "# Aplicar la función limpiar_texto a la columna \"coms\"\n",
        "df[\"coms\"] = df[\"coms\"].apply(limpiar_texto)\n",
        "\n",
        "# Mostrar el DataFrame actualizado\n",
        "print(df)"
      ],
      "metadata": {
        "colab": {
          "base_uri": "https://localhost:8080/"
        },
        "id": "w_4kZOiEJcN_",
        "outputId": "9c9d03d4-f3a0-4996-ff9b-da3c4234540d"
      },
      "execution_count": 58,
      "outputs": [
        {
          "output_type": "stream",
          "name": "stdout",
          "text": [
            "                                                                                                                                                                                                                                coms  \\\n",
            "0                                > pd insoportable foca camporista aplaudidora lejos dejar hablar milei alargar discurso innecesariamente loca gritar \\n\\n boludo terrible sentar 10 punto durar eternidad aplauso discursir momento   \n",
            "1                                                                                                                                                                            jubilación privilegio milei alcanzariar milei vice noma   \n",
            "2     anti milei admito \\n\\n loable medida reducir eliminir curro politica \\n\\n gustar democratización sindicato \\n\\n ir allá tocar dieta viatico diputado senador decir ganar docente caño etc. dar él algun marco regulatorio baja   \n",
            "3                                                                                                                                                                                                                        metro milei   \n",
            "4                                                                                             adhiero malisimo hora medio duro haber él terminar leer medio hora sea partido gustar milei andar zombie descerebrado aplaudir él cosa   \n",
            "...                                                                                                                                                                                                                              ...   \n",
            "1496               ganador debate finalidad massa consiguio video tik tok quicer reafirmar voto antimilei kirchnerismo haberlo representado oportunidad milei atraer voto debate funcional massa mitad \\n\\n único cumplio meta massa   \n",
            "1497                                                                                                         pobre milei admitir penita zona confort massa votar causa problema politico alto estirpe milei costar hacer él entender   \n",
            "1498                                                                                      gobierno clarin convertir izquierda diario ln+ diario fak milei \\n\\n +50 mierdar leer diario dejar medio información medio opinión sesgado   \n",
            "1499                                                                                                                                                                            tranquilo poner milei empezar hablar solito enterrar   \n",
            "1500                                                            claramente gano massa unico destruir propuesta milei perder tiempo massa juego milei resolver desastre kircho 20 año \\n\\n propuesta massa googlea compañere googleir   \n",
            "\n",
            "     sent  \n",
            "0     NEG  \n",
            "1     NEU  \n",
            "2     NEU  \n",
            "3     POS  \n",
            "4     NEG  \n",
            "...   ...  \n",
            "1496  NEU  \n",
            "1497  POS  \n",
            "1498  NEG  \n",
            "1499  NEG  \n",
            "1500  POS  \n",
            "\n",
            "[1501 rows x 2 columns]\n"
          ]
        }
      ]
    },
    {
      "cell_type": "code",
      "source": [
        "def eliminar_url(texto):\n",
        "    # Patrón para encontrar URLs en el texto\n",
        "    patron_url = r'https?://\\S+'\n",
        "    # Reemplazar todas las coincidencias con una cadena vacía\n",
        "    texto_sin_url = re.sub(patron_url, '', texto)\n",
        "    return texto_sin_url\n",
        "\n",
        "# Aplicar la función eliminar_url a la columna 'coms' del DataFrame df\n",
        "df['coms'] = df['coms'].apply(eliminar_url)"
      ],
      "metadata": {
        "id": "fs6Zz8365qIc"
      },
      "execution_count": 59,
      "outputs": []
    },
    {
      "cell_type": "code",
      "source": [
        "def eliminar_numeros(texto):\n",
        "    return ''.join(caracter for caracter in texto if not caracter.isdigit())\n",
        "\n",
        "# Aplicando al DataFrame\n",
        "df['coms'] = df['coms'].apply(eliminar_numeros)"
      ],
      "metadata": {
        "id": "tDkpuJn15qFu"
      },
      "execution_count": 60,
      "outputs": []
    },
    {
      "cell_type": "code",
      "source": [
        "def corregir_errores(texto):\n",
        "    palabras = texto.split()  # Dividir el texto en palabras\n",
        "    texto_corregido = []  # Lista para almacenar las palabras corregidas\n",
        "    for palabra in palabras:\n",
        "        # Si la palabra no es correcta, obtener la sugerencia más probable\n",
        "        palabra_corregida = corrector.correction(palabra)\n",
        "        if palabra_corregida is not None:\n",
        "            texto_corregido.append(palabra_corregida)  # Agregar la palabra corregida a la lista\n",
        "    return ' '.join(texto_corregido)  # Unir las palabras corregidas en un texto nuevamente"
      ],
      "metadata": {
        "id": "3UkOu6x58ku-"
      },
      "execution_count": 61,
      "outputs": []
    },
    {
      "cell_type": "code",
      "source": [
        "# Define una función para eliminar caracteres no deseados\n",
        "def eliminar_caracteres(cadena):\n",
        "    caracteres_no_deseados = ['\\n', '<', '>']\n",
        "    for caracter in caracteres_no_deseados:\n",
        "        cadena = cadena.replace(caracter, '')\n",
        "    return cadena\n",
        "\n",
        "# Aplica la función a cada elemento de la columna 'coms'\n",
        "df['coms'] = df['coms'].apply(eliminar_caracteres)"
      ],
      "metadata": {
        "id": "TRhV-66a5p__"
      },
      "execution_count": 62,
      "outputs": []
    },
    {
      "cell_type": "code",
      "source": [
        "# Suponiendo que ya tienes el DataFrame 'df' creado\n",
        "\n",
        "# Aplicar la función unidecode a la columna 'coms'\n",
        "df['coms'] = df['coms'].apply(unidecode)"
      ],
      "metadata": {
        "id": "UCoZEoZ45p9T"
      },
      "execution_count": 63,
      "outputs": []
    },
    {
      "cell_type": "code",
      "source": [
        "pd.options.display.max_colwidth = 10000\n",
        "df.head(5)"
      ],
      "metadata": {
        "colab": {
          "base_uri": "https://localhost:8080/",
          "height": 292
        },
        "id": "UJqOCOsV5p6z",
        "outputId": "0bd28156-4ddb-427e-be2c-7597560b6ee4"
      },
      "execution_count": 64,
      "outputs": [
        {
          "output_type": "execute_result",
          "data": {
            "text/plain": [
              "                                                                                                                                                                                                                 coms  \\\n",
              "0                         pd insoportable foca camporista aplaudidora lejos dejar hablar milei alargar discurso innecesariamente loca gritar  boludo terrible sentar  punto durar eternidad aplauso discursir momento   \n",
              "1                                                                                                                                                             jubilacion privilegio milei alcanzariar milei vice noma   \n",
              "2  anti milei admito  loable medida reducir eliminir curro politica  gustar democratizacion sindicato  ir alla tocar dieta viatico diputado senador decir ganar docente cano etc. dar el algun marco regulatorio baja   \n",
              "3                                                                                                                                                                                                         metro milei   \n",
              "4                                                                              adhiero malisimo hora medio duro haber el terminar leer medio hora sea partido gustar milei andar zombie descerebrado aplaudir el cosa   \n",
              "\n",
              "  sent  \n",
              "0  NEG  \n",
              "1  NEU  \n",
              "2  NEU  \n",
              "3  POS  \n",
              "4  NEG  "
            ],
            "text/html": [
              "\n",
              "  <div id=\"df-167a794a-ab7b-4c3f-9c92-e2b8a0ebbd8a\" class=\"colab-df-container\">\n",
              "    <div>\n",
              "<style scoped>\n",
              "    .dataframe tbody tr th:only-of-type {\n",
              "        vertical-align: middle;\n",
              "    }\n",
              "\n",
              "    .dataframe tbody tr th {\n",
              "        vertical-align: top;\n",
              "    }\n",
              "\n",
              "    .dataframe thead th {\n",
              "        text-align: right;\n",
              "    }\n",
              "</style>\n",
              "<table border=\"1\" class=\"dataframe\">\n",
              "  <thead>\n",
              "    <tr style=\"text-align: right;\">\n",
              "      <th></th>\n",
              "      <th>coms</th>\n",
              "      <th>sent</th>\n",
              "    </tr>\n",
              "  </thead>\n",
              "  <tbody>\n",
              "    <tr>\n",
              "      <th>0</th>\n",
              "      <td>pd insoportable foca camporista aplaudidora lejos dejar hablar milei alargar discurso innecesariamente loca gritar  boludo terrible sentar  punto durar eternidad aplauso discursir momento</td>\n",
              "      <td>NEG</td>\n",
              "    </tr>\n",
              "    <tr>\n",
              "      <th>1</th>\n",
              "      <td>jubilacion privilegio milei alcanzariar milei vice noma</td>\n",
              "      <td>NEU</td>\n",
              "    </tr>\n",
              "    <tr>\n",
              "      <th>2</th>\n",
              "      <td>anti milei admito  loable medida reducir eliminir curro politica  gustar democratizacion sindicato  ir alla tocar dieta viatico diputado senador decir ganar docente cano etc. dar el algun marco regulatorio baja</td>\n",
              "      <td>NEU</td>\n",
              "    </tr>\n",
              "    <tr>\n",
              "      <th>3</th>\n",
              "      <td>metro milei</td>\n",
              "      <td>POS</td>\n",
              "    </tr>\n",
              "    <tr>\n",
              "      <th>4</th>\n",
              "      <td>adhiero malisimo hora medio duro haber el terminar leer medio hora sea partido gustar milei andar zombie descerebrado aplaudir el cosa</td>\n",
              "      <td>NEG</td>\n",
              "    </tr>\n",
              "  </tbody>\n",
              "</table>\n",
              "</div>\n",
              "    <div class=\"colab-df-buttons\">\n",
              "\n",
              "  <div class=\"colab-df-container\">\n",
              "    <button class=\"colab-df-convert\" onclick=\"convertToInteractive('df-167a794a-ab7b-4c3f-9c92-e2b8a0ebbd8a')\"\n",
              "            title=\"Convert this dataframe to an interactive table.\"\n",
              "            style=\"display:none;\">\n",
              "\n",
              "  <svg xmlns=\"http://www.w3.org/2000/svg\" height=\"24px\" viewBox=\"0 -960 960 960\">\n",
              "    <path d=\"M120-120v-720h720v720H120Zm60-500h600v-160H180v160Zm220 220h160v-160H400v160Zm0 220h160v-160H400v160ZM180-400h160v-160H180v160Zm440 0h160v-160H620v160ZM180-180h160v-160H180v160Zm440 0h160v-160H620v160Z\"/>\n",
              "  </svg>\n",
              "    </button>\n",
              "\n",
              "  <style>\n",
              "    .colab-df-container {\n",
              "      display:flex;\n",
              "      gap: 12px;\n",
              "    }\n",
              "\n",
              "    .colab-df-convert {\n",
              "      background-color: #E8F0FE;\n",
              "      border: none;\n",
              "      border-radius: 50%;\n",
              "      cursor: pointer;\n",
              "      display: none;\n",
              "      fill: #1967D2;\n",
              "      height: 32px;\n",
              "      padding: 0 0 0 0;\n",
              "      width: 32px;\n",
              "    }\n",
              "\n",
              "    .colab-df-convert:hover {\n",
              "      background-color: #E2EBFA;\n",
              "      box-shadow: 0px 1px 2px rgba(60, 64, 67, 0.3), 0px 1px 3px 1px rgba(60, 64, 67, 0.15);\n",
              "      fill: #174EA6;\n",
              "    }\n",
              "\n",
              "    .colab-df-buttons div {\n",
              "      margin-bottom: 4px;\n",
              "    }\n",
              "\n",
              "    [theme=dark] .colab-df-convert {\n",
              "      background-color: #3B4455;\n",
              "      fill: #D2E3FC;\n",
              "    }\n",
              "\n",
              "    [theme=dark] .colab-df-convert:hover {\n",
              "      background-color: #434B5C;\n",
              "      box-shadow: 0px 1px 3px 1px rgba(0, 0, 0, 0.15);\n",
              "      filter: drop-shadow(0px 1px 2px rgba(0, 0, 0, 0.3));\n",
              "      fill: #FFFFFF;\n",
              "    }\n",
              "  </style>\n",
              "\n",
              "    <script>\n",
              "      const buttonEl =\n",
              "        document.querySelector('#df-167a794a-ab7b-4c3f-9c92-e2b8a0ebbd8a button.colab-df-convert');\n",
              "      buttonEl.style.display =\n",
              "        google.colab.kernel.accessAllowed ? 'block' : 'none';\n",
              "\n",
              "      async function convertToInteractive(key) {\n",
              "        const element = document.querySelector('#df-167a794a-ab7b-4c3f-9c92-e2b8a0ebbd8a');\n",
              "        const dataTable =\n",
              "          await google.colab.kernel.invokeFunction('convertToInteractive',\n",
              "                                                    [key], {});\n",
              "        if (!dataTable) return;\n",
              "\n",
              "        const docLinkHtml = 'Like what you see? Visit the ' +\n",
              "          '<a target=\"_blank\" href=https://colab.research.google.com/notebooks/data_table.ipynb>data table notebook</a>'\n",
              "          + ' to learn more about interactive tables.';\n",
              "        element.innerHTML = '';\n",
              "        dataTable['output_type'] = 'display_data';\n",
              "        await google.colab.output.renderOutput(dataTable, element);\n",
              "        const docLink = document.createElement('div');\n",
              "        docLink.innerHTML = docLinkHtml;\n",
              "        element.appendChild(docLink);\n",
              "      }\n",
              "    </script>\n",
              "  </div>\n",
              "\n",
              "\n",
              "<div id=\"df-cf189b61-e586-49ca-a5c4-3685669fb746\">\n",
              "  <button class=\"colab-df-quickchart\" onclick=\"quickchart('df-cf189b61-e586-49ca-a5c4-3685669fb746')\"\n",
              "            title=\"Suggest charts\"\n",
              "            style=\"display:none;\">\n",
              "\n",
              "<svg xmlns=\"http://www.w3.org/2000/svg\" height=\"24px\"viewBox=\"0 0 24 24\"\n",
              "     width=\"24px\">\n",
              "    <g>\n",
              "        <path d=\"M19 3H5c-1.1 0-2 .9-2 2v14c0 1.1.9 2 2 2h14c1.1 0 2-.9 2-2V5c0-1.1-.9-2-2-2zM9 17H7v-7h2v7zm4 0h-2V7h2v10zm4 0h-2v-4h2v4z\"/>\n",
              "    </g>\n",
              "</svg>\n",
              "  </button>\n",
              "\n",
              "<style>\n",
              "  .colab-df-quickchart {\n",
              "      --bg-color: #E8F0FE;\n",
              "      --fill-color: #1967D2;\n",
              "      --hover-bg-color: #E2EBFA;\n",
              "      --hover-fill-color: #174EA6;\n",
              "      --disabled-fill-color: #AAA;\n",
              "      --disabled-bg-color: #DDD;\n",
              "  }\n",
              "\n",
              "  [theme=dark] .colab-df-quickchart {\n",
              "      --bg-color: #3B4455;\n",
              "      --fill-color: #D2E3FC;\n",
              "      --hover-bg-color: #434B5C;\n",
              "      --hover-fill-color: #FFFFFF;\n",
              "      --disabled-bg-color: #3B4455;\n",
              "      --disabled-fill-color: #666;\n",
              "  }\n",
              "\n",
              "  .colab-df-quickchart {\n",
              "    background-color: var(--bg-color);\n",
              "    border: none;\n",
              "    border-radius: 50%;\n",
              "    cursor: pointer;\n",
              "    display: none;\n",
              "    fill: var(--fill-color);\n",
              "    height: 32px;\n",
              "    padding: 0;\n",
              "    width: 32px;\n",
              "  }\n",
              "\n",
              "  .colab-df-quickchart:hover {\n",
              "    background-color: var(--hover-bg-color);\n",
              "    box-shadow: 0 1px 2px rgba(60, 64, 67, 0.3), 0 1px 3px 1px rgba(60, 64, 67, 0.15);\n",
              "    fill: var(--button-hover-fill-color);\n",
              "  }\n",
              "\n",
              "  .colab-df-quickchart-complete:disabled,\n",
              "  .colab-df-quickchart-complete:disabled:hover {\n",
              "    background-color: var(--disabled-bg-color);\n",
              "    fill: var(--disabled-fill-color);\n",
              "    box-shadow: none;\n",
              "  }\n",
              "\n",
              "  .colab-df-spinner {\n",
              "    border: 2px solid var(--fill-color);\n",
              "    border-color: transparent;\n",
              "    border-bottom-color: var(--fill-color);\n",
              "    animation:\n",
              "      spin 1s steps(1) infinite;\n",
              "  }\n",
              "\n",
              "  @keyframes spin {\n",
              "    0% {\n",
              "      border-color: transparent;\n",
              "      border-bottom-color: var(--fill-color);\n",
              "      border-left-color: var(--fill-color);\n",
              "    }\n",
              "    20% {\n",
              "      border-color: transparent;\n",
              "      border-left-color: var(--fill-color);\n",
              "      border-top-color: var(--fill-color);\n",
              "    }\n",
              "    30% {\n",
              "      border-color: transparent;\n",
              "      border-left-color: var(--fill-color);\n",
              "      border-top-color: var(--fill-color);\n",
              "      border-right-color: var(--fill-color);\n",
              "    }\n",
              "    40% {\n",
              "      border-color: transparent;\n",
              "      border-right-color: var(--fill-color);\n",
              "      border-top-color: var(--fill-color);\n",
              "    }\n",
              "    60% {\n",
              "      border-color: transparent;\n",
              "      border-right-color: var(--fill-color);\n",
              "    }\n",
              "    80% {\n",
              "      border-color: transparent;\n",
              "      border-right-color: var(--fill-color);\n",
              "      border-bottom-color: var(--fill-color);\n",
              "    }\n",
              "    90% {\n",
              "      border-color: transparent;\n",
              "      border-bottom-color: var(--fill-color);\n",
              "    }\n",
              "  }\n",
              "</style>\n",
              "\n",
              "  <script>\n",
              "    async function quickchart(key) {\n",
              "      const quickchartButtonEl =\n",
              "        document.querySelector('#' + key + ' button');\n",
              "      quickchartButtonEl.disabled = true;  // To prevent multiple clicks.\n",
              "      quickchartButtonEl.classList.add('colab-df-spinner');\n",
              "      try {\n",
              "        const charts = await google.colab.kernel.invokeFunction(\n",
              "            'suggestCharts', [key], {});\n",
              "      } catch (error) {\n",
              "        console.error('Error during call to suggestCharts:', error);\n",
              "      }\n",
              "      quickchartButtonEl.classList.remove('colab-df-spinner');\n",
              "      quickchartButtonEl.classList.add('colab-df-quickchart-complete');\n",
              "    }\n",
              "    (() => {\n",
              "      let quickchartButtonEl =\n",
              "        document.querySelector('#df-cf189b61-e586-49ca-a5c4-3685669fb746 button');\n",
              "      quickchartButtonEl.style.display =\n",
              "        google.colab.kernel.accessAllowed ? 'block' : 'none';\n",
              "    })();\n",
              "  </script>\n",
              "</div>\n",
              "\n",
              "    </div>\n",
              "  </div>\n"
            ],
            "application/vnd.google.colaboratory.intrinsic+json": {
              "type": "dataframe",
              "variable_name": "df",
              "summary": "{\n  \"name\": \"df\",\n  \"rows\": 1501,\n  \"fields\": [\n    {\n      \"column\": \"coms\",\n      \"properties\": {\n        \"dtype\": \"string\",\n        \"num_unique_values\": 1497,\n        \"samples\": [\n          \"decir frase venir derechos kirchnerista contar hijo puta sacar terreno casa madre hijo momento tirar milei\",\n          \"aumentar sueldo gente trabajar aportar  ano votar faltar ano morir el aumentar auh tarjeta alimentar gordo villera rosarina]( kawxazkmk?si = gfvxwz_yshqgzs&t=  hijo milei garantizar voto eleccion \",\n          \"i definitely understand but milei haber beir so sweeping with changes it is not like typical transition of power  here the removal of rent law haber beir praised as it is claimed rent priz have plummeted but therar is mention about the quality of new rentals on the market etc. these are the things i'm interested in learning\"\n        ],\n        \"semantic_type\": \"\",\n        \"description\": \"\"\n      }\n    },\n    {\n      \"column\": \"sent\",\n      \"properties\": {\n        \"dtype\": \"category\",\n        \"num_unique_values\": 3,\n        \"samples\": [\n          \"NEG\",\n          \"NEU\",\n          \"POS\"\n        ],\n        \"semantic_type\": \"\",\n        \"description\": \"\"\n      }\n    }\n  ]\n}"
            }
          },
          "metadata": {},
          "execution_count": 64
        }
      ]
    },
    {
      "cell_type": "markdown",
      "source": [
        "# Desarrollo del modelo"
      ],
      "metadata": {
        "id": "ijz4n0G196VV"
      }
    },
    {
      "cell_type": "code",
      "source": [
        "!pip install praw"
      ],
      "metadata": {
        "colab": {
          "base_uri": "https://localhost:8080/"
        },
        "id": "9oInyICIALEp",
        "outputId": "70ebb780-07cc-41a2-91ce-e4dafe4db787"
      },
      "execution_count": 78,
      "outputs": [
        {
          "output_type": "stream",
          "name": "stdout",
          "text": [
            "Collecting praw\n",
            "  Downloading praw-7.7.1-py3-none-any.whl (191 kB)\n",
            "\u001b[2K     \u001b[90m━━━━━━━━━━━━━━━━━━━━━━━━━━━━━━━━━━━━━━━━\u001b[0m \u001b[32m191.0/191.0 kB\u001b[0m \u001b[31m2.1 MB/s\u001b[0m eta \u001b[36m0:00:00\u001b[0m\n",
            "\u001b[?25hCollecting prawcore<3,>=2.1 (from praw)\n",
            "  Downloading prawcore-2.4.0-py3-none-any.whl (17 kB)\n",
            "Collecting update-checker>=0.18 (from praw)\n",
            "  Downloading update_checker-0.18.0-py3-none-any.whl (7.0 kB)\n",
            "Requirement already satisfied: websocket-client>=0.54.0 in /usr/local/lib/python3.10/dist-packages (from praw) (1.7.0)\n",
            "Requirement already satisfied: requests<3.0,>=2.6.0 in /usr/local/lib/python3.10/dist-packages (from prawcore<3,>=2.1->praw) (2.31.0)\n",
            "Requirement already satisfied: charset-normalizer<4,>=2 in /usr/local/lib/python3.10/dist-packages (from requests<3.0,>=2.6.0->prawcore<3,>=2.1->praw) (3.3.2)\n",
            "Requirement already satisfied: idna<4,>=2.5 in /usr/local/lib/python3.10/dist-packages (from requests<3.0,>=2.6.0->prawcore<3,>=2.1->praw) (3.6)\n",
            "Requirement already satisfied: urllib3<3,>=1.21.1 in /usr/local/lib/python3.10/dist-packages (from requests<3.0,>=2.6.0->prawcore<3,>=2.1->praw) (2.0.7)\n",
            "Requirement already satisfied: certifi>=2017.4.17 in /usr/local/lib/python3.10/dist-packages (from requests<3.0,>=2.6.0->prawcore<3,>=2.1->praw) (2024.2.2)\n",
            "Installing collected packages: update-checker, prawcore, praw\n",
            "Successfully installed praw-7.7.1 prawcore-2.4.0 update-checker-0.18.0\n"
          ]
        }
      ]
    },
    {
      "cell_type": "code",
      "source": [
        "# Importo las librerias necesarias\n",
        "\n",
        "from sklearn.preprocessing import LabelEncoder\n",
        "from sklearn.feature_extraction.text import TfidfVectorizer\n",
        "from sklearn.model_selection import train_test_split\n",
        "from sklearn.naive_bayes import MultinomialNB, BernoulliNB\n",
        "from sklearn.ensemble import RandomForestClassifier\n",
        "import xgboost as xgb\n",
        "from sklearn.linear_model import LogisticRegression\n",
        "from sklearn.svm import SVC\n",
        "from sklearn.discriminant_analysis import LinearDiscriminantAnalysis as LDA\n",
        "from sklearn.svm import SVC\n",
        "from sklearn.metrics import classification_report, confusion_matrix, roc_curve, roc_auc_score\n",
        "from sklearn.feature_extraction.text import TfidfVectorizer"
      ],
      "metadata": {
        "id": "P-UwQuS55p40"
      },
      "execution_count": 73,
      "outputs": []
    },
    {
      "cell_type": "code",
      "source": [
        "vectorizer = TfidfVectorizer(ngram_range=(1,2), max_features=2500)\n",
        "X = vectorizer.fit_transform(df['coms'].values.tolist()).toarray()\n",
        "y = LabelEncoder().fit_transform(df['sent'].values)"
      ],
      "metadata": {
        "id": "r_Iuxd9A5p3T"
      },
      "execution_count": 66,
      "outputs": []
    },
    {
      "cell_type": "code",
      "source": [
        "X_train, X_test, y_train, y_test = train_test_split(X,y,test_size=0.2,random_state=42)"
      ],
      "metadata": {
        "id": "mGh4Loat5pyn"
      },
      "execution_count": 67,
      "outputs": []
    },
    {
      "cell_type": "code",
      "source": [
        "def model_train(model, X_train, X_test, y_train, y_test):\n",
        "    model.fit(X_train,y_train)\n",
        "    y_pred_tr = model.predict(X_train)\n",
        "    y_pred = model.predict(X_test)\n",
        "\n",
        "    print(\"Training Performance\")\n",
        "    print(classification_report(y_train,y_pred_tr))\n",
        "    print(\" \")\n",
        "    print(\"Testing Performance\")\n",
        "    print(classification_report(y_test,y_pred))\n",
        "\n",
        "    sns.heatmap(confusion_matrix(y_test, y_pred),cmap='viridis',annot=True,fmt='.4g',\n",
        "            xticklabels=['Negative','Positive'],yticklabels=['Negative','Positive'])\n",
        "    plt.xlabel('Predicted Class')\n",
        "    plt.ylabel('Actual Class')\n",
        "    plt.show()"
      ],
      "metadata": {
        "id": "mKg6-3Ew5pvh"
      },
      "execution_count": 69,
      "outputs": []
    },
    {
      "cell_type": "code",
      "source": [
        "# Calcular los valores únicos\n",
        "valores_unicos, conteos = np.unique(y_test, return_counts=True)\n",
        "\n",
        "for valor, conteo in zip(valores_unicos, conteos):\n",
        "    print(f\"El valor {valor} aparece {conteo} veces en el array.\")"
      ],
      "metadata": {
        "colab": {
          "base_uri": "https://localhost:8080/"
        },
        "id": "FOh69A5z5ps3",
        "outputId": "df44b4cf-5321-49f1-e32b-32582a38c749"
      },
      "execution_count": 70,
      "outputs": [
        {
          "output_type": "stream",
          "name": "stdout",
          "text": [
            "El valor 0 aparece 128 veces en el array.\n",
            "El valor 1 aparece 104 veces en el array.\n",
            "El valor 2 aparece 69 veces en el array.\n"
          ]
        }
      ]
    },
    {
      "cell_type": "code",
      "source": [
        "model = MultinomialNB()\n",
        "model_train(model, X_train, X_test, y_train, y_test)"
      ],
      "metadata": {
        "colab": {
          "base_uri": "https://localhost:8080/",
          "height": 934
        },
        "id": "hM_pdgz--uEN",
        "outputId": "6f9ff4bd-0523-4585-feab-b332836cdf7e"
      },
      "execution_count": 71,
      "outputs": [
        {
          "output_type": "stream",
          "name": "stdout",
          "text": [
            "Training Performance\n",
            "              precision    recall  f1-score   support\n",
            "\n",
            "           0       0.65      0.96      0.78       469\n",
            "           1       0.83      0.83      0.83       456\n",
            "           2       1.00      0.21      0.35       275\n",
            "\n",
            "    accuracy                           0.74      1200\n",
            "   macro avg       0.83      0.67      0.65      1200\n",
            "weighted avg       0.80      0.74      0.70      1200\n",
            "\n",
            " \n",
            "Testing Performance\n",
            "              precision    recall  f1-score   support\n",
            "\n",
            "           0       0.48      0.80      0.60       128\n",
            "           1       0.44      0.35      0.39       104\n",
            "           2       0.17      0.01      0.03        69\n",
            "\n",
            "    accuracy                           0.47       301\n",
            "   macro avg       0.36      0.39      0.34       301\n",
            "weighted avg       0.40      0.47      0.40       301\n",
            "\n"
          ]
        },
        {
          "output_type": "display_data",
          "data": {
            "text/plain": [
              "<Figure size 640x480 with 2 Axes>"
            ],
            "image/png": "[encoded data removed]"
          },
          "metadata": {}
        }
      ]
    },
    {
      "cell_type": "code",
      "source": [
        "model = LogisticRegression(max_iter=1000)\n",
        "model_train(model, X_train, X_test, y_train, y_test)"
      ],
      "metadata": {
        "colab": {
          "base_uri": "https://localhost:8080/",
          "height": 935
        },
        "id": "mr4poYOS-uBF",
        "outputId": "8b353c6e-153c-4e7f-bf40-5c22b98fb895"
      },
      "execution_count": 72,
      "outputs": [
        {
          "output_type": "stream",
          "name": "stdout",
          "text": [
            "Training Performance\n",
            "              precision    recall  f1-score   support\n",
            "\n",
            "           0       0.85      0.94      0.89       469\n",
            "           1       0.86      0.93      0.89       456\n",
            "           2       0.97      0.66      0.78       275\n",
            "\n",
            "    accuracy                           0.87      1200\n",
            "   macro avg       0.89      0.84      0.86      1200\n",
            "weighted avg       0.88      0.87      0.87      1200\n",
            "\n",
            " \n",
            "Testing Performance\n",
            "              precision    recall  f1-score   support\n",
            "\n",
            "           0       0.54      0.63      0.58       128\n",
            "           1       0.43      0.54      0.48       104\n",
            "           2       0.32      0.10      0.15        69\n",
            "\n",
            "    accuracy                           0.48       301\n",
            "   macro avg       0.43      0.42      0.41       301\n",
            "weighted avg       0.45      0.48      0.45       301\n",
            "\n"
          ]
        },
        {
          "output_type": "display_data",
          "data": {
            "text/plain": [
              "<Figure size 640x480 with 2 Axes>"
            ],
            "image/png": "[encoded data removed]"
          },
          "metadata": {}
        }
      ]
    },
    {
      "cell_type": "code",
      "source": [
        "X = df.coms.copy()\n",
        "y = df.sent.copy()\n",
        "\n",
        "X_train, X_test, y_train, y_test = train_test_split(X, y, test_size=0.2, random_state=0)\n",
        "\n",
        "# Defino los parámetros para el vectorizador TF-IDF\n",
        "tfidf_params = {\n",
        "    'max_features': 1500,\n",
        "    'ngram_range': (1,3),\n",
        "    'min_df': 2,\n",
        "    'max_df': 0.8\n",
        "}\n",
        "\n",
        "# Crear un vectorizador TF-IDF con los parámetros\n",
        "vectorizer = TfidfVectorizer(**tfidf_params)\n",
        "X_train = vectorizer.fit_transform(X_train)\n",
        "X_test = vectorizer.transform(X_test)\n",
        "from sklearn.svm import SVC\n",
        "clf = SVC(random_state=0, C=0.5)\n",
        "clf.fit(X_train, y_train)\n",
        "from sklearn.metrics import classification_report\n",
        "\n",
        "print(classification_report(y_train, clf.predict(X_train)))\n",
        "print(classification_report(y_test, clf.predict(X_test)))"
      ],
      "metadata": {
        "colab": {
          "base_uri": "https://localhost:8080/"
        },
        "id": "sAhzeiUj-t-J",
        "outputId": "aa43f81a-cc5e-47b1-f625-3780e1271524"
      },
      "execution_count": 74,
      "outputs": [
        {
          "output_type": "stream",
          "name": "stdout",
          "text": [
            "              precision    recall  f1-score   support\n",
            "\n",
            "         NEG       0.52      0.99      0.69       471\n",
            "         NEU       0.96      0.64      0.77       439\n",
            "         POS       1.00      0.04      0.08       290\n",
            "\n",
            "    accuracy                           0.64      1200\n",
            "   macro avg       0.83      0.56      0.51      1200\n",
            "weighted avg       0.80      0.64      0.57      1200\n",
            "\n",
            "              precision    recall  f1-score   support\n",
            "\n",
            "         NEG       0.43      0.97      0.60       126\n",
            "         NEU       0.53      0.07      0.13       121\n",
            "         POS       0.00      0.00      0.00        54\n",
            "\n",
            "    accuracy                           0.44       301\n",
            "   macro avg       0.32      0.35      0.24       301\n",
            "weighted avg       0.39      0.44      0.30       301\n",
            "\n"
          ]
        }
      ]
    },
    {
      "cell_type": "code",
      "source": [
        "X = df.coms.copy()\n",
        "y = df.sent.copy()\n",
        "\n",
        "X_train, X_test, y_train, y_test = train_test_split(X, y, test_size=0.2, random_state=42)\n",
        "\n",
        "# Vectorizar los comentarios usando TF-IDF\n",
        "vectorizer = TfidfVectorizer(max_features=5000)\n",
        "X_train_tfidf = vectorizer.fit_transform(X_train)\n",
        "X_test_tfidf = vectorizer.transform(X_test)\n",
        "\n",
        "#modelo de SVM\n",
        "svm_classifier = SVC(kernel='rbf',C=10, gamma=1.5,random_state=0)\n",
        "svm_classifier.fit(X_train_tfidf, y_train)\n",
        "\n",
        "#predicciones en los conjuntos de entrenamiento y prueba\n",
        "y_train_pred = svm_classifier.predict(X_train_tfidf)\n",
        "y_test_pred = svm_classifier.predict(X_test_tfidf)\n",
        "\n",
        "#reportes de clasificación\n",
        "print(\"Reporte de clasificación en entrenamiento:\")\n",
        "print(classification_report(y_train, y_train_pred))\n",
        "print(\"\\nReporte de clasificación en prueba:\")\n",
        "print(classification_report(y_test, y_test_pred))"
      ],
      "metadata": {
        "colab": {
          "base_uri": "https://localhost:8080/"
        },
        "id": "4-qlDFRR-t7_",
        "outputId": "8eae1f35-bf51-453d-cffb-a747e7e4d8f2"
      },
      "execution_count": 75,
      "outputs": [
        {
          "output_type": "stream",
          "name": "stdout",
          "text": [
            "Reporte de clasificación en entrenamiento:\n",
            "              precision    recall  f1-score   support\n",
            "\n",
            "         NEG       1.00      1.00      1.00       469\n",
            "         NEU       0.99      1.00      1.00       456\n",
            "         POS       1.00      0.99      0.99       275\n",
            "\n",
            "    accuracy                           1.00      1200\n",
            "   macro avg       1.00      1.00      1.00      1200\n",
            "weighted avg       1.00      1.00      1.00      1200\n",
            "\n",
            "\n",
            "Reporte de clasificación en prueba:\n",
            "              precision    recall  f1-score   support\n",
            "\n",
            "         NEG       0.51      0.67      0.58       128\n",
            "         NEU       0.40      0.48      0.44       104\n",
            "         POS       0.29      0.03      0.05        69\n",
            "\n",
            "    accuracy                           0.46       301\n",
            "   macro avg       0.40      0.39      0.36       301\n",
            "weighted avg       0.42      0.46      0.41       301\n",
            "\n"
          ]
        }
      ]
    },
    {
      "cell_type": "code",
      "source": [
        "import praw\n",
        "import tensorflow as tf\n",
        "from tensorflow.keras.preprocessing.text import Tokenizer\n",
        "from tensorflow.keras.preprocessing.sequence import pad_sequences"
      ],
      "metadata": {
        "id": "bek_zgAW_5vz"
      },
      "execution_count": 79,
      "outputs": []
    },
    {
      "cell_type": "code",
      "source": [
        "# Dividir los datos en características (comentarios) y etiquetas (sentimientos)\n",
        "\n",
        "comentarios = df['coms'].values\n",
        "sentimientos = df['sent'].values\n",
        "\n",
        "# Tokenización y preprocesamiento de datos\n",
        "tokenizer = Tokenizer()\n",
        "tokenizer.fit_on_texts(comentarios)\n",
        "sequences = tokenizer.texts_to_sequences(comentarios)\n",
        "max_seq_len = max([len(seq) for seq in sequences])\n",
        "padded_sequences = pad_sequences(sequences, maxlen=max_seq_len, padding='post')\n",
        "\n",
        "# Convertir etiquetas de sentimiento a números\n",
        "label_dict = {'NEG': 0, 'NEU': 1, 'POS': 2}\n",
        "sentimientos_numericos = np.array([label_dict[sent] for sent in sentimientos])\n",
        "\n",
        "# Dividir los datos en conjuntos de entrenamiento y prueba\n",
        "X_train, X_test, y_train, y_test = train_test_split(padded_sequences, sentimientos_numericos, test_size=0.2, random_state=42)\n",
        "\n",
        "# Definir modelo de RNN\n",
        "model = tf.keras.Sequential([\n",
        "    tf.keras.layers.Embedding(len(tokenizer.word_index) + 1, 64),\n",
        "    tf.keras.layers.LSTM(64),\n",
        "    tf.keras.layers.Dense(64, activation='relu'),\n",
        "    tf.keras.layers.Dense(3, activation='softmax')\n",
        "])\n",
        "\n",
        "model.compile(loss='sparse_categorical_crossentropy', optimizer='adam', metrics=['accuracy'])\n",
        "\n",
        "# Entrenar el modelo\n",
        "model.fit(X_train, y_train, epochs=8, batch_size=32, validation_data=(X_test, y_test))\n",
        "\n",
        "# Evaluar el modelo\n",
        "loss, accuracy = model.evaluate(X_test, y_test)\n",
        "print(f'Loss: {loss}, Accuracy: {accuracy}')"
      ],
      "metadata": {
        "colab": {
          "base_uri": "https://localhost:8080/"
        },
        "id": "zAfrkQvC-t44",
        "outputId": "ab4b134b-33c9-49cf-9220-9bb4e7a1cb47"
      },
      "execution_count": 80,
      "outputs": [
        {
          "output_type": "stream",
          "name": "stdout",
          "text": [
            "Epoch 1/8\n",
            "38/38 [==============================] - 13s 233ms/step - loss: 1.0809 - accuracy: 0.3542 - val_loss: 1.0703 - val_accuracy: 0.4252\n",
            "Epoch 2/8\n",
            "38/38 [==============================] - 15s 393ms/step - loss: 1.0741 - accuracy: 0.3775 - val_loss: 1.0705 - val_accuracy: 0.4252\n",
            "Epoch 3/8\n",
            "38/38 [==============================] - 15s 388ms/step - loss: 1.0772 - accuracy: 0.3717 - val_loss: 1.0694 - val_accuracy: 0.4252\n",
            "Epoch 4/8\n",
            "38/38 [==============================] - 10s 263ms/step - loss: 1.0759 - accuracy: 0.3908 - val_loss: 1.0728 - val_accuracy: 0.4252\n",
            "Epoch 5/8\n",
            "38/38 [==============================] - 9s 230ms/step - loss: 1.0737 - accuracy: 0.3592 - val_loss: 1.0731 - val_accuracy: 0.3455\n",
            "Epoch 6/8\n",
            "38/38 [==============================] - 10s 267ms/step - loss: 1.0745 - accuracy: 0.3883 - val_loss: 1.0720 - val_accuracy: 0.4252\n",
            "Epoch 7/8\n",
            "38/38 [==============================] - 8s 224ms/step - loss: 1.0738 - accuracy: 0.3917 - val_loss: 1.0713 - val_accuracy: 0.4252\n",
            "Epoch 8/8\n",
            "38/38 [==============================] - 8s 223ms/step - loss: 1.0742 - accuracy: 0.3900 - val_loss: 1.0733 - val_accuracy: 0.3455\n",
            "10/10 [==============================] - 0s 43ms/step - loss: 1.0733 - accuracy: 0.3455\n",
            "Loss: 1.073303461074829, Accuracy: 0.3455149531364441\n"
          ]
        }
      ]
    },
    {
      "cell_type": "code",
      "source": [
        "X = df.coms.copy()\n",
        "y = df.sent.copy()\n",
        "vectorizer = TfidfVectorizer(max_features=1000)\n",
        "X = vectorizer.fit_transform(X)\n",
        "\n",
        "\n",
        "X_train, X_test, y_train, y_test = train_test_split(X, y, test_size=0.2, random_state=42)\n",
        "\n",
        "#modelo Random Forest\n",
        "rf_classifier = RandomForestClassifier(n_estimators=98, random_state=42, max_depth=6)\n",
        "rf_classifier.fit(X_train, y_train)"
      ],
      "metadata": {
        "colab": {
          "base_uri": "https://localhost:8080/",
          "height": 82
        },
        "id": "MeHdHvjpAW2I",
        "outputId": "caedf4e9-5e5e-4ac5-aadf-e0f05203ddfe"
      },
      "execution_count": 81,
      "outputs": [
        {
          "output_type": "execute_result",
          "data": {
            "text/plain": [
              "RandomForestClassifier(max_depth=6, n_estimators=98, random_state=42)"
            ],
            "text/html": [
              "<style>#sk-container-id-1 {color: black;background-color: white;}#sk-container-id-1 pre{padding: 0;}#sk-container-id-1 div.sk-toggleable {background-color: white;}#sk-container-id-1 label.sk-toggleable__label {cursor: pointer;display: block;width: 100%;margin-bottom: 0;padding: 0.3em;box-sizing: border-box;text-align: center;}#sk-container-id-1 label.sk-toggleable__label-arrow:before {content: \"▸\";float: left;margin-right: 0.25em;color: #696969;}#sk-container-id-1 label.sk-toggleable__label-arrow:hover:before {color: black;}#sk-container-id-1 div.sk-estimator:hover label.sk-toggleable__label-arrow:before {color: black;}#sk-container-id-1 div.sk-toggleable__content {max-height: 0;max-width: 0;overflow: hidden;text-align: left;background-color: #f0f8ff;}#sk-container-id-1 div.sk-toggleable__content pre {margin: 0.2em;color: black;border-radius: 0.25em;background-color: #f0f8ff;}#sk-container-id-1 input.sk-toggleable__control:checked~div.sk-toggleable__content {max-height: 200px;max-width: 100%;overflow: auto;}#sk-container-id-1 input.sk-toggleable__control:checked~label.sk-toggleable__label-arrow:before {content: \"▾\";}#sk-container-id-1 div.sk-estimator input.sk-toggleable__control:checked~label.sk-toggleable__label {background-color: #d4ebff;}#sk-container-id-1 div.sk-label input.sk-toggleable__control:checked~label.sk-toggleable__label {background-color: #d4ebff;}#sk-container-id-1 input.sk-hidden--visually {border: 0;clip: rect(1px 1px 1px 1px);clip: rect(1px, 1px, 1px, 1px);height: 1px;margin: -1px;overflow: hidden;padding: 0;position: absolute;width: 1px;}#sk-container-id-1 div.sk-estimator {font-family: monospace;background-color: #f0f8ff;border: 1px dotted black;border-radius: 0.25em;box-sizing: border-box;margin-bottom: 0.5em;}#sk-container-id-1 div.sk-estimator:hover {background-color: #d4ebff;}#sk-container-id-1 div.sk-parallel-item::after {content: \"\";width: 100%;border-bottom: 1px solid gray;flex-grow: 1;}#sk-container-id-1 div.sk-label:hover label.sk-toggleable__label {background-color: #d4ebff;}#sk-container-id-1 div.sk-serial::before {content: \"\";position: absolute;border-left: 1px solid gray;box-sizing: border-box;top: 0;bottom: 0;left: 50%;z-index: 0;}#sk-container-id-1 div.sk-serial {display: flex;flex-direction: column;align-items: center;background-color: white;padding-right: 0.2em;padding-left: 0.2em;position: relative;}#sk-container-id-1 div.sk-item {position: relative;z-index: 1;}#sk-container-id-1 div.sk-parallel {display: flex;align-items: stretch;justify-content: center;background-color: white;position: relative;}#sk-container-id-1 div.sk-item::before, #sk-container-id-1 div.sk-parallel-item::before {content: \"\";position: absolute;border-left: 1px solid gray;box-sizing: border-box;top: 0;bottom: 0;left: 50%;z-index: -1;}#sk-container-id-1 div.sk-parallel-item {display: flex;flex-direction: column;z-index: 1;position: relative;background-color: white;}#sk-container-id-1 div.sk-parallel-item:first-child::after {align-self: flex-end;width: 50%;}#sk-container-id-1 div.sk-parallel-item:last-child::after {align-self: flex-start;width: 50%;}#sk-container-id-1 div.sk-parallel-item:only-child::after {width: 0;}#sk-container-id-1 div.sk-dashed-wrapped {border: 1px dashed gray;margin: 0 0.4em 0.5em 0.4em;box-sizing: border-box;padding-bottom: 0.4em;background-color: white;}#sk-container-id-1 div.sk-label label {font-family: monospace;font-weight: bold;display: inline-block;line-height: 1.2em;}#sk-container-id-1 div.sk-label-container {text-align: center;}#sk-container-id-1 div.sk-container {/* jupyter's `normalize.less` sets `[hidden] { display: none; }` but bootstrap.min.css set `[hidden] { display: none !important; }` so we also need the `!important` here to be able to override the default hidden behavior on the sphinx rendered scikit-learn.org. See: https://github.com/scikit-learn/scikit-learn/issues/21755 */display: inline-block !important;position: relative;}#sk-container-id-1 div.sk-text-repr-fallback {display: none;}</style><div id=\"sk-container-id-1\" class=\"sk-top-container\"><div class=\"sk-text-repr-fallback\"><pre>RandomForestClassifier(max_depth=6, n_estimators=98, random_state=42)</pre><b>In a Jupyter environment, please rerun this cell to show the HTML representation or trust the notebook. <br />On GitHub, the HTML representation is unable to render, please try loading this page with nbviewer.org.</b></div><div class=\"sk-container\" hidden><div class=\"sk-item\"><div class=\"sk-estimator sk-toggleable\"><input class=\"sk-toggleable__control sk-hidden--visually\" id=\"sk-estimator-id-1\" type=\"checkbox\" checked><label for=\"sk-estimator-id-1\" class=\"sk-toggleable__label sk-toggleable__label-arrow\">RandomForestClassifier</label><div class=\"sk-toggleable__content\"><pre>RandomForestClassifier(max_depth=6, n_estimators=98, random_state=42)</pre></div></div></div></div></div>"
            ]
          },
          "metadata": {},
          "execution_count": 81
        }
      ]
    },
    {
      "cell_type": "code",
      "source": [
        "predictions = rf_classifier.predict(X_test)\n",
        "\n",
        "# Evaluación del rendimiento del modelo\n",
        "from sklearn.metrics import accuracy_score, classification_report\n",
        "\n",
        "print(\"Exactitud del modelo:\", accuracy_score(y_test, predictions))\n",
        "print(\"Informe de clasificación:\")\n",
        "print(classification_report(y_test, predictions,zero_division=1))"
      ],
      "metadata": {
        "colab": {
          "base_uri": "https://localhost:8080/"
        },
        "id": "XHRDHBk8AWzV",
        "outputId": "f9d9608b-399a-4417-c756-ccd2da791a7a"
      },
      "execution_count": 82,
      "outputs": [
        {
          "output_type": "stream",
          "name": "stdout",
          "text": [
            "Exactitud del modelo: 0.47840531561461797\n",
            "Informe de clasificación:\n",
            "              precision    recall  f1-score   support\n",
            "\n",
            "         NEG       0.50      0.67      0.58       128\n",
            "         NEU       0.45      0.56      0.50       104\n",
            "         POS       1.00      0.00      0.00        69\n",
            "\n",
            "    accuracy                           0.48       301\n",
            "   macro avg       0.65      0.41      0.36       301\n",
            "weighted avg       0.60      0.48      0.42       301\n",
            "\n"
          ]
        }
      ]
    },
    {
      "cell_type": "code",
      "source": [
        "!pip install optuna\n",
        "import optuna\n",
        "from sklearn.model_selection import train_test_split\n",
        "from sklearn.ensemble import RandomForestClassifier\n",
        "from sklearn.metrics import accuracy_score\n",
        "\n",
        "# Define una función objetivo que Optuna intentará minimizar.\n",
        "def objective(trial):\n",
        "    # Define los hiperparámetros a optimizar\n",
        "    n_estimators = trial.suggest_int('n_estimators', 10, 100)\n",
        "    max_depth = trial.suggest_int('max_depth', 2, 32, log=True)\n",
        "\n",
        "    # Crea un modelo con los hiperparámetros sugeridos\n",
        "    model = RandomForestClassifier(n_estimators=n_estimators, max_depth=max_depth, random_state=42)\n",
        "\n",
        "    # Divide los datos en conjuntos de entrenamiento y prueba\n",
        "    X_train, X_test, y_train, y_test = train_test_split(X, y, test_size=0.2, random_state=42)\n",
        "\n",
        "    # Entrena el modelo\n",
        "    model.fit(X_train, y_train)\n",
        "\n",
        "    # Calcula la precisión del modelo en el conjunto de prueba\n",
        "    y_pred = model.predict(X_test)\n",
        "    accuracy = accuracy_score(y_test, y_pred)\n",
        "\n",
        "    # Devuelve la precisión, Optuna intentará minimizar esto\n",
        "    return 1.0 - accuracy\n",
        "\n",
        "# Crear los datos (X, y) - Asume que ya están definidos\n",
        "\n",
        "# Crea un estudio Optuna\n",
        "study = optuna.create_study(direction='minimize')\n",
        "\n",
        "# Ejecuta la optimización (puede llevar un tiempo)\n",
        "study.optimize(objective, n_trials=100)\n",
        "\n",
        "# Obtiene los mejores hiperparámetros encontrados\n",
        "best_params = study.best_params\n",
        "print(\"Mejores hiperparámetros:\", best_params)\n",
        "\n",
        "# Obtiene la mejor precisión\n",
        "best_accuracy = 1.0 - study.best_value\n",
        "print(\"Mejor precisión:\", best_accuracy)"
      ],
      "metadata": {
        "colab": {
          "base_uri": "https://localhost:8080/"
        },
        "id": "wCuxAh_6AWwW",
        "outputId": "0dbd283f-b320-4edd-ecbf-77e524069163"
      },
      "execution_count": 83,
      "outputs": [
        {
          "output_type": "stream",
          "name": "stdout",
          "text": [
            "Collecting optuna\n",
            "  Downloading optuna-3.6.1-py3-none-any.whl (380 kB)\n",
            "\u001b[2K     \u001b[90m━━━━━━━━━━━━━━━━━━━━━━━━━━━━━━━━━━━━━━━━\u001b[0m \u001b[32m380.1/380.1 kB\u001b[0m \u001b[31m2.9 MB/s\u001b[0m eta \u001b[36m0:00:00\u001b[0m\n",
            "\u001b[?25hCollecting alembic>=1.5.0 (from optuna)\n",
            "  Downloading alembic-1.13.1-py3-none-any.whl (233 kB)\n",
            "\u001b[2K     \u001b[90m━━━━━━━━━━━━━━━━━━━━━━━━━━━━━━━━━━━━━━━━\u001b[0m \u001b[32m233.4/233.4 kB\u001b[0m \u001b[31m16.4 MB/s\u001b[0m eta \u001b[36m0:00:00\u001b[0m\n",
            "\u001b[?25hCollecting colorlog (from optuna)\n",
            "  Downloading colorlog-6.8.2-py3-none-any.whl (11 kB)\n",
            "Requirement already satisfied: numpy in /usr/local/lib/python3.10/dist-packages (from optuna) (1.25.2)\n",
            "Requirement already satisfied: packaging>=20.0 in /usr/local/lib/python3.10/dist-packages (from optuna) (24.0)\n",
            "Requirement already satisfied: sqlalchemy>=1.3.0 in /usr/local/lib/python3.10/dist-packages (from optuna) (2.0.29)\n",
            "Requirement already satisfied: tqdm in /usr/local/lib/python3.10/dist-packages (from optuna) (4.66.2)\n",
            "Requirement already satisfied: PyYAML in /usr/local/lib/python3.10/dist-packages (from optuna) (6.0.1)\n",
            "Collecting Mako (from alembic>=1.5.0->optuna)\n",
            "  Downloading Mako-1.3.2-py3-none-any.whl (78 kB)\n",
            "\u001b[2K     \u001b[90m━━━━━━━━━━━━━━━━━━━━━━━━━━━━━━━━━━━━━━━━\u001b[0m \u001b[32m78.7/78.7 kB\u001b[0m \u001b[31m10.4 MB/s\u001b[0m eta \u001b[36m0:00:00\u001b[0m\n",
            "\u001b[?25hRequirement already satisfied: typing-extensions>=4 in /usr/local/lib/python3.10/dist-packages (from alembic>=1.5.0->optuna) (4.10.0)\n",
            "Requirement already satisfied: greenlet!=0.4.17 in /usr/local/lib/python3.10/dist-packages (from sqlalchemy>=1.3.0->optuna) (3.0.3)\n",
            "Requirement already satisfied: MarkupSafe>=0.9.2 in /usr/local/lib/python3.10/dist-packages (from Mako->alembic>=1.5.0->optuna) (2.1.5)\n",
            "Installing collected packages: Mako, colorlog, alembic, optuna\n",
            "Successfully installed Mako-1.3.2 alembic-1.13.1 colorlog-6.8.2 optuna-3.6.1\n"
          ]
        },
        {
          "output_type": "stream",
          "name": "stderr",
          "text": [
            "[I 2024-04-08 04:42:09,643] A new study created in memory with name: no-name-3b4e42e4-64f1-4217-859e-12793710ca13\n",
            "[I 2024-04-08 04:42:09,742] Trial 0 finished with value: 0.5182724252491695 and parameters: {'n_estimators': 34, 'max_depth': 30}. Best is trial 0 with value: 0.5182724252491695.\n",
            "[I 2024-04-08 04:42:09,962] Trial 1 finished with value: 0.5681063122923589 and parameters: {'n_estimators': 98, 'max_depth': 19}. Best is trial 0 with value: 0.5182724252491695.\n",
            "[I 2024-04-08 04:42:10,027] Trial 2 finished with value: 0.521594684385382 and parameters: {'n_estimators': 40, 'max_depth': 6}. Best is trial 0 with value: 0.5182724252491695.\n",
            "[I 2024-04-08 04:42:10,144] Trial 3 finished with value: 0.521594684385382 and parameters: {'n_estimators': 75, 'max_depth': 5}. Best is trial 0 with value: 0.5182724252491695.\n",
            "[I 2024-04-08 04:42:10,255] Trial 4 finished with value: 0.5382059800664452 and parameters: {'n_estimators': 62, 'max_depth': 11}. Best is trial 0 with value: 0.5182724252491695.\n",
            "[I 2024-04-08 04:42:10,292] Trial 5 finished with value: 0.5448504983388704 and parameters: {'n_estimators': 25, 'max_depth': 4}. Best is trial 0 with value: 0.5182724252491695.\n",
            "[I 2024-04-08 04:42:10,331] Trial 6 finished with value: 0.5581395348837209 and parameters: {'n_estimators': 17, 'max_depth': 14}. Best is trial 0 with value: 0.5182724252491695.\n",
            "[I 2024-04-08 04:42:10,516] Trial 7 finished with value: 0.5415282392026578 and parameters: {'n_estimators': 88, 'max_depth': 17}. Best is trial 0 with value: 0.5182724252491695.\n",
            "[I 2024-04-08 04:42:10,683] Trial 8 finished with value: 0.5348837209302326 and parameters: {'n_estimators': 61, 'max_depth': 26}. Best is trial 0 with value: 0.5182724252491695.\n",
            "[I 2024-04-08 04:42:10,873] Trial 9 finished with value: 0.5548172757475083 and parameters: {'n_estimators': 91, 'max_depth': 16}. Best is trial 0 with value: 0.5182724252491695.\n",
            "[I 2024-04-08 04:42:10,932] Trial 10 finished with value: 0.548172757475083 and parameters: {'n_estimators': 38, 'max_depth': 2}. Best is trial 0 with value: 0.5182724252491695.\n",
            "[I 2024-04-08 04:42:11,011] Trial 11 finished with value: 0.5681063122923589 and parameters: {'n_estimators': 40, 'max_depth': 8}. Best is trial 0 with value: 0.5182724252491695.\n",
            "[I 2024-04-08 04:42:11,149] Trial 12 finished with value: 0.5448504983388704 and parameters: {'n_estimators': 39, 'max_depth': 32}. Best is trial 0 with value: 0.5182724252491695.\n",
            "[I 2024-04-08 04:42:11,226] Trial 13 finished with value: 0.5415282392026578 and parameters: {'n_estimators': 49, 'max_depth': 3}. Best is trial 0 with value: 0.5182724252491695.\n",
            "[I 2024-04-08 04:42:11,282] Trial 14 finished with value: 0.548172757475083 and parameters: {'n_estimators': 27, 'max_depth': 8}. Best is trial 0 with value: 0.5182724252491695.\n",
            "[I 2024-04-08 04:42:11,311] Trial 15 finished with value: 0.5348837209302326 and parameters: {'n_estimators': 11, 'max_depth': 6}. Best is trial 0 with value: 0.5182724252491695.\n",
            "[I 2024-04-08 04:42:11,385] Trial 16 finished with value: 0.5415282392026578 and parameters: {'n_estimators': 49, 'max_depth': 3}. Best is trial 0 with value: 0.5182724252491695.\n",
            "[I 2024-04-08 04:42:11,449] Trial 17 finished with value: 0.5514950166112957 and parameters: {'n_estimators': 29, 'max_depth': 10}. Best is trial 0 with value: 0.5182724252491695.\n",
            "[I 2024-04-08 04:42:11,548] Trial 18 finished with value: 0.5614617940199336 and parameters: {'n_estimators': 70, 'max_depth': 2}. Best is trial 0 with value: 0.5182724252491695.\n",
            "[I 2024-04-08 04:42:11,626] Trial 19 finished with value: 0.5448504983388704 and parameters: {'n_estimators': 50, 'max_depth': 4}. Best is trial 0 with value: 0.5182724252491695.\n",
            "[I 2024-04-08 04:42:11,723] Trial 20 finished with value: 0.548172757475083 and parameters: {'n_estimators': 33, 'max_depth': 22}. Best is trial 0 with value: 0.5182724252491695.\n",
            "[I 2024-04-08 04:42:11,839] Trial 21 finished with value: 0.5315614617940199 and parameters: {'n_estimators': 75, 'max_depth': 6}. Best is trial 0 with value: 0.5182724252491695.\n",
            "[I 2024-04-08 04:42:11,956] Trial 22 finished with value: 0.521594684385382 and parameters: {'n_estimators': 75, 'max_depth': 5}. Best is trial 0 with value: 0.5182724252491695.\n",
            "[I 2024-04-08 04:42:12,070] Trial 23 finished with value: 0.5448504983388704 and parameters: {'n_estimators': 60, 'max_depth': 10}. Best is trial 0 with value: 0.5182724252491695.\n",
            "[I 2024-04-08 04:42:12,152] Trial 24 finished with value: 0.5415282392026578 and parameters: {'n_estimators': 45, 'max_depth': 4}. Best is trial 0 with value: 0.5182724252491695.\n",
            "[I 2024-04-08 04:42:12,194] Trial 25 finished with value: 0.5315614617940199 and parameters: {'n_estimators': 21, 'max_depth': 3}. Best is trial 0 with value: 0.5182724252491695.\n",
            "[I 2024-04-08 04:42:12,303] Trial 26 finished with value: 0.5315614617940199 and parameters: {'n_estimators': 69, 'max_depth': 5}. Best is trial 0 with value: 0.5182724252491695.\n",
            "[I 2024-04-08 04:42:12,480] Trial 27 finished with value: 0.521594684385382 and parameters: {'n_estimators': 84, 'max_depth': 13}. Best is trial 0 with value: 0.5182724252491695.\n",
            "[I 2024-04-08 04:42:12,550] Trial 28 finished with value: 0.5415282392026578 and parameters: {'n_estimators': 34, 'max_depth': 8}. Best is trial 0 with value: 0.5182724252491695.\n",
            "[I 2024-04-08 04:42:12,701] Trial 29 finished with value: 0.521594684385382 and parameters: {'n_estimators': 98, 'max_depth': 6}. Best is trial 0 with value: 0.5182724252491695.\n",
            "[I 2024-04-08 04:42:12,792] Trial 30 finished with value: 0.5249169435215947 and parameters: {'n_estimators': 55, 'max_depth': 5}. Best is trial 0 with value: 0.5182724252491695.\n",
            "[I 2024-04-08 04:42:12,915] Trial 31 finished with value: 0.5182724252491695 and parameters: {'n_estimators': 77, 'max_depth': 5}. Best is trial 0 with value: 0.5182724252491695.\n",
            "[I 2024-04-08 04:42:13,053] Trial 32 finished with value: 0.5315614617940199 and parameters: {'n_estimators': 82, 'max_depth': 7}. Best is trial 0 with value: 0.5182724252491695.\n",
            "[I 2024-04-08 04:42:13,178] Trial 33 finished with value: 0.521594684385382 and parameters: {'n_estimators': 77, 'max_depth': 4}. Best is trial 0 with value: 0.5182724252491695.\n",
            "[I 2024-04-08 04:42:13,347] Trial 34 finished with value: 0.5382059800664452 and parameters: {'n_estimators': 66, 'max_depth': 11}. Best is trial 0 with value: 0.5182724252491695.\n",
            "[I 2024-04-08 04:42:13,498] Trial 35 finished with value: 0.5348837209302326 and parameters: {'n_estimators': 56, 'max_depth': 7}. Best is trial 0 with value: 0.5182724252491695.\n",
            "[I 2024-04-08 04:42:13,702] Trial 36 finished with value: 0.521594684385382 and parameters: {'n_estimators': 98, 'max_depth': 5}. Best is trial 0 with value: 0.5182724252491695.\n",
            "[I 2024-04-08 04:42:13,848] Trial 37 finished with value: 0.5315614617940199 and parameters: {'n_estimators': 45, 'max_depth': 13}. Best is trial 0 with value: 0.5182724252491695.\n",
            "[I 2024-04-08 04:42:14,046] Trial 38 finished with value: 0.5382059800664452 and parameters: {'n_estimators': 91, 'max_depth': 3}. Best is trial 0 with value: 0.5182724252491695.\n",
            "[I 2024-04-08 04:42:14,137] Trial 39 finished with value: 0.574750830564784 and parameters: {'n_estimators': 21, 'max_depth': 19}. Best is trial 0 with value: 0.5182724252491695.\n",
            "[I 2024-04-08 04:42:14,302] Trial 40 finished with value: 0.5415282392026578 and parameters: {'n_estimators': 64, 'max_depth': 9}. Best is trial 0 with value: 0.5182724252491695.\n",
            "[I 2024-04-08 04:42:14,479] Trial 41 finished with value: 0.5149501661129567 and parameters: {'n_estimators': 78, 'max_depth': 5}. Best is trial 41 with value: 0.5149501661129567.\n",
            "[I 2024-04-08 04:42:14,667] Trial 42 finished with value: 0.5182724252491695 and parameters: {'n_estimators': 80, 'max_depth': 4}. Best is trial 41 with value: 0.5149501661129567.\n",
            "[I 2024-04-08 04:42:14,885] Trial 43 finished with value: 0.5182724252491695 and parameters: {'n_estimators': 81, 'max_depth': 6}. Best is trial 41 with value: 0.5149501661129567.\n",
            "[I 2024-04-08 04:42:15,046] Trial 44 finished with value: 0.521594684385382 and parameters: {'n_estimators': 83, 'max_depth': 4}. Best is trial 41 with value: 0.5149501661129567.\n",
            "[I 2024-04-08 04:42:15,194] Trial 45 finished with value: 0.5249169435215947 and parameters: {'n_estimators': 91, 'max_depth': 6}. Best is trial 41 with value: 0.5149501661129567.\n",
            "[I 2024-04-08 04:42:15,322] Trial 46 finished with value: 0.5116279069767442 and parameters: {'n_estimators': 79, 'max_depth': 5}. Best is trial 46 with value: 0.5116279069767442.\n",
            "[I 2024-04-08 04:42:15,434] Trial 47 finished with value: 0.5282392026578073 and parameters: {'n_estimators': 71, 'max_depth': 4}. Best is trial 46 with value: 0.5116279069767442.\n",
            "[I 2024-04-08 04:42:15,669] Trial 48 finished with value: 0.5614617940199336 and parameters: {'n_estimators': 79, 'max_depth': 29}. Best is trial 46 with value: 0.5116279069767442.\n",
            "[I 2024-04-08 04:42:15,794] Trial 49 finished with value: 0.5182724252491695 and parameters: {'n_estimators': 87, 'max_depth': 5}. Best is trial 46 with value: 0.5116279069767442.\n",
            "[I 2024-04-08 04:42:15,904] Trial 50 finished with value: 0.5282392026578073 and parameters: {'n_estimators': 73, 'max_depth': 3}. Best is trial 46 with value: 0.5116279069767442.\n",
            "[I 2024-04-08 04:42:16,045] Trial 51 finished with value: 0.5249169435215947 and parameters: {'n_estimators': 81, 'max_depth': 7}. Best is trial 46 with value: 0.5116279069767442.\n",
            "[I 2024-04-08 04:42:16,185] Trial 52 finished with value: 0.521594684385382 and parameters: {'n_estimators': 87, 'max_depth': 6}. Best is trial 46 with value: 0.5116279069767442.\n",
            "[I 2024-04-08 04:42:16,339] Trial 53 finished with value: 0.5448504983388704 and parameters: {'n_estimators': 77, 'max_depth': 9}. Best is trial 46 with value: 0.5116279069767442.\n",
            "[I 2024-04-08 04:42:16,495] Trial 54 finished with value: 0.5182724252491695 and parameters: {'n_estimators': 93, 'max_depth': 5}. Best is trial 46 with value: 0.5116279069767442.\n",
            "[I 2024-04-08 04:42:16,644] Trial 55 finished with value: 0.5415282392026578 and parameters: {'n_estimators': 85, 'max_depth': 8}. Best is trial 46 with value: 0.5116279069767442.\n",
            "[I 2024-04-08 04:42:16,751] Trial 56 finished with value: 0.5315614617940199 and parameters: {'n_estimators': 66, 'max_depth': 6}. Best is trial 46 with value: 0.5116279069767442.\n",
            "[I 2024-04-08 04:42:16,984] Trial 57 finished with value: 0.5415282392026578 and parameters: {'n_estimators': 94, 'max_depth': 23}. Best is trial 46 with value: 0.5116279069767442.\n",
            "[I 2024-04-08 04:42:17,098] Trial 58 finished with value: 0.5083056478405316 and parameters: {'n_estimators': 79, 'max_depth': 4}. Best is trial 58 with value: 0.5083056478405316.\n",
            "[I 2024-04-08 04:42:17,198] Trial 59 finished with value: 0.5415282392026578 and parameters: {'n_estimators': 60, 'max_depth': 4}. Best is trial 58 with value: 0.5083056478405316.\n",
            "[I 2024-04-08 04:42:17,309] Trial 60 finished with value: 0.5548172757475083 and parameters: {'n_estimators': 74, 'max_depth': 2}. Best is trial 58 with value: 0.5083056478405316.\n",
            "[I 2024-04-08 04:42:17,432] Trial 61 finished with value: 0.5083056478405316 and parameters: {'n_estimators': 79, 'max_depth': 4}. Best is trial 58 with value: 0.5083056478405316.\n",
            "[I 2024-04-08 04:42:17,553] Trial 62 finished with value: 0.5083056478405316 and parameters: {'n_estimators': 79, 'max_depth': 4}. Best is trial 58 with value: 0.5083056478405316.\n",
            "[I 2024-04-08 04:42:17,676] Trial 63 finished with value: 0.5182724252491695 and parameters: {'n_estimators': 77, 'max_depth': 5}. Best is trial 58 with value: 0.5083056478405316.\n",
            "[I 2024-04-08 04:42:17,781] Trial 64 finished with value: 0.5382059800664452 and parameters: {'n_estimators': 69, 'max_depth': 3}. Best is trial 58 with value: 0.5083056478405316.\n",
            "[I 2024-04-08 04:42:17,881] Trial 65 finished with value: 0.5315614617940199 and parameters: {'n_estimators': 71, 'max_depth': 3}. Best is trial 58 with value: 0.5083056478405316.\n",
            "[I 2024-04-08 04:42:18,072] Trial 66 finished with value: 0.5348837209302326 and parameters: {'n_estimators': 89, 'max_depth': 15}. Best is trial 58 with value: 0.5083056478405316.\n",
            "[I 2024-04-08 04:42:18,106] Trial 67 finished with value: 0.5681063122923589 and parameters: {'n_estimators': 12, 'max_depth': 4}. Best is trial 58 with value: 0.5083056478405316.\n",
            "[I 2024-04-08 04:42:18,230] Trial 68 finished with value: 0.5149501661129567 and parameters: {'n_estimators': 85, 'max_depth': 5}. Best is trial 58 with value: 0.5083056478405316.\n",
            "[I 2024-04-08 04:42:18,395] Trial 69 finished with value: 0.521594684385382 and parameters: {'n_estimators': 85, 'max_depth': 7}. Best is trial 58 with value: 0.5083056478405316.\n",
            "[I 2024-04-08 04:42:18,544] Trial 70 finished with value: 0.5282392026578073 and parameters: {'n_estimators': 96, 'max_depth': 4}. Best is trial 58 with value: 0.5083056478405316.\n",
            "[I 2024-04-08 04:42:18,674] Trial 71 finished with value: 0.5116279069767442 and parameters: {'n_estimators': 79, 'max_depth': 5}. Best is trial 58 with value: 0.5083056478405316.\n",
            "[I 2024-04-08 04:42:18,798] Trial 72 finished with value: 0.5116279069767442 and parameters: {'n_estimators': 79, 'max_depth': 5}. Best is trial 58 with value: 0.5083056478405316.\n",
            "[I 2024-04-08 04:42:18,916] Trial 73 finished with value: 0.5249169435215947 and parameters: {'n_estimators': 73, 'max_depth': 5}. Best is trial 58 with value: 0.5083056478405316.\n",
            "[I 2024-04-08 04:42:19,049] Trial 74 finished with value: 0.5249169435215947 and parameters: {'n_estimators': 78, 'max_depth': 6}. Best is trial 58 with value: 0.5083056478405316.\n",
            "[I 2024-04-08 04:42:19,175] Trial 75 finished with value: 0.521594684385382 and parameters: {'n_estimators': 84, 'max_depth': 4}. Best is trial 58 with value: 0.5083056478405316.\n",
            "[I 2024-04-08 04:42:19,325] Trial 76 finished with value: 0.5182724252491695 and parameters: {'n_estimators': 89, 'max_depth': 5}. Best is trial 58 with value: 0.5083056478405316.\n",
            "[I 2024-04-08 04:42:19,465] Trial 77 finished with value: 0.5249169435215947 and parameters: {'n_estimators': 80, 'max_depth': 6}. Best is trial 58 with value: 0.5083056478405316.\n",
            "[I 2024-04-08 04:42:19,618] Trial 78 finished with value: 0.521594684385382 and parameters: {'n_estimators': 100, 'max_depth': 5}. Best is trial 58 with value: 0.5083056478405316.\n",
            "[I 2024-04-08 04:42:19,739] Trial 79 finished with value: 0.5315614617940199 and parameters: {'n_estimators': 66, 'max_depth': 7}. Best is trial 58 with value: 0.5083056478405316.\n",
            "[I 2024-04-08 04:42:19,854] Trial 80 finished with value: 0.5182724252491695 and parameters: {'n_estimators': 75, 'max_depth': 4}. Best is trial 58 with value: 0.5083056478405316.\n",
            "[I 2024-04-08 04:42:19,994] Trial 81 finished with value: 0.5116279069767442 and parameters: {'n_estimators': 82, 'max_depth': 5}. Best is trial 58 with value: 0.5083056478405316.\n",
            "[I 2024-04-08 04:42:20,128] Trial 82 finished with value: 0.5116279069767442 and parameters: {'n_estimators': 82, 'max_depth': 5}. Best is trial 58 with value: 0.5083056478405316.\n",
            "[I 2024-04-08 04:42:20,270] Trial 83 finished with value: 0.5415282392026578 and parameters: {'n_estimators': 83, 'max_depth': 8}. Best is trial 58 with value: 0.5083056478405316.\n",
            "[I 2024-04-08 04:42:20,402] Trial 84 finished with value: 0.5083056478405316 and parameters: {'n_estimators': 79, 'max_depth': 4}. Best is trial 58 with value: 0.5083056478405316.\n",
            "[I 2024-04-08 04:42:20,527] Trial 85 finished with value: 0.5182724252491695 and parameters: {'n_estimators': 82, 'max_depth': 4}. Best is trial 58 with value: 0.5083056478405316.\n",
            "[I 2024-04-08 04:42:20,650] Trial 86 finished with value: 0.548172757475083 and parameters: {'n_estimators': 87, 'max_depth': 3}. Best is trial 58 with value: 0.5083056478405316.\n",
            "[I 2024-04-08 04:42:20,755] Trial 87 finished with value: 0.5315614617940199 and parameters: {'n_estimators': 72, 'max_depth': 4}. Best is trial 58 with value: 0.5083056478405316.\n",
            "[I 2024-04-08 04:42:20,885] Trial 88 finished with value: 0.5249169435215947 and parameters: {'n_estimators': 80, 'max_depth': 6}. Best is trial 58 with value: 0.5083056478405316.\n",
            "[I 2024-04-08 04:42:20,993] Trial 89 finished with value: 0.5315614617940199 and parameters: {'n_estimators': 76, 'max_depth': 3}. Best is trial 58 with value: 0.5083056478405316.\n",
            "[I 2024-04-08 04:42:21,117] Trial 90 finished with value: 0.5315614617940199 and parameters: {'n_estimators': 75, 'max_depth': 6}. Best is trial 58 with value: 0.5083056478405316.\n",
            "[I 2024-04-08 04:42:21,241] Trial 91 finished with value: 0.5116279069767442 and parameters: {'n_estimators': 79, 'max_depth': 5}. Best is trial 58 with value: 0.5083056478405316.\n",
            "[I 2024-04-08 04:42:21,372] Trial 92 finished with value: 0.5116279069767442 and parameters: {'n_estimators': 80, 'max_depth': 5}. Best is trial 58 with value: 0.5083056478405316.\n",
            "[I 2024-04-08 04:42:21,497] Trial 93 finished with value: 0.5116279069767442 and parameters: {'n_estimators': 79, 'max_depth': 5}. Best is trial 58 with value: 0.5083056478405316.\n",
            "[I 2024-04-08 04:42:21,625] Trial 94 finished with value: 0.5182724252491695 and parameters: {'n_estimators': 82, 'max_depth': 4}. Best is trial 58 with value: 0.5083056478405316.\n",
            "[I 2024-04-08 04:42:21,736] Trial 95 finished with value: 0.5315614617940199 and parameters: {'n_estimators': 69, 'max_depth': 5}. Best is trial 58 with value: 0.5083056478405316.\n",
            "[I 2024-04-08 04:42:21,878] Trial 96 finished with value: 0.521594684385382 and parameters: {'n_estimators': 87, 'max_depth': 6}. Best is trial 58 with value: 0.5083056478405316.\n",
            "[I 2024-04-08 04:42:22,014] Trial 97 finished with value: 0.5448504983388704 and parameters: {'n_estimators': 74, 'max_depth': 9}. Best is trial 58 with value: 0.5083056478405316.\n",
            "[I 2024-04-08 04:42:22,152] Trial 98 finished with value: 0.5182724252491695 and parameters: {'n_estimators': 90, 'max_depth': 4}. Best is trial 58 with value: 0.5083056478405316.\n",
            "[I 2024-04-08 04:42:22,292] Trial 99 finished with value: 0.5282392026578073 and parameters: {'n_estimators': 84, 'max_depth': 7}. Best is trial 58 with value: 0.5083056478405316.\n"
          ]
        },
        {
          "output_type": "stream",
          "name": "stdout",
          "text": [
            "Mejores hiperparámetros: {'n_estimators': 79, 'max_depth': 4}\n",
            "Mejor precisión: 0.49169435215946844\n"
          ]
        }
      ]
    },
    {
      "cell_type": "code",
      "source": [],
      "metadata": {
        "id": "GDYEI8rHAWtU"
      },
      "execution_count": null,
      "outputs": []
    },
    {
      "cell_type": "code",
      "source": [],
      "metadata": {
        "id": "sXN7QgdUAWql"
      },
      "execution_count": null,
      "outputs": []
    },
    {
      "cell_type": "code",
      "source": [],
      "metadata": {
        "id": "pMty-D-cAWoK"
      },
      "execution_count": null,
      "outputs": []
    },
    {
      "cell_type": "code",
      "source": [],
      "metadata": {
        "id": "GQx55xozAWlU"
      },
      "execution_count": null,
      "outputs": []
    },
    {
      "cell_type": "code",
      "source": [],
      "metadata": {
        "id": "I5YhwDtNAWiL"
      },
      "execution_count": null,
      "outputs": []
    },
    {
      "cell_type": "code",
      "source": [],
      "metadata": {
        "id": "als9aBvm-t2F"
      },
      "execution_count": null,
      "outputs": []
    },
    {
      "cell_type": "code",
      "source": [],
      "metadata": {
        "id": "_3NjuNgw-tzT"
      },
      "execution_count": null,
      "outputs": []
    },
    {
      "cell_type": "code",
      "source": [],
      "metadata": {
        "id": "XR7RRCWX-twE"
      },
      "execution_count": null,
      "outputs": []
    },
    {
      "cell_type": "code",
      "source": [],
      "metadata": {
        "id": "n1JI1GRx-ts9"
      },
      "execution_count": null,
      "outputs": []
    }
  ]
}